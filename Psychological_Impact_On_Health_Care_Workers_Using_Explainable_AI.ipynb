{
  "cells": [
    {
      "cell_type": "markdown",
      "source": [
        "##**Introduction**"
      ],
      "metadata": {
        "id": "UdE80P-lMIhP"
      }
    },
    {
      "cell_type": "markdown",
      "source": [
        "this notebook implements classification and psychological analysis on health care workers during the time of pandemic\n",
        "\n",
        "\n",
        "**Data Description:**\n",
        "\n",
        "*   ***psych_data.csv***: contains the data used\n",
        "*   each row represent a healthcare worker\n",
        "*   ***SCL_Label***: this is a target variable it was calculated using SCL-90 psychological scale by a researcher. this column consists of 2 classes **High** and **Low**\n",
        "*   Rest of the features are based on social and demographic informtion of healthcare workers\n",
        "\n",
        "\n",
        "\n",
        "\n",
        "**Goal:** Predict the likelihood of psychological impact on healthcare worker"
      ],
      "metadata": {
        "id": "kUc_UnsHMkV7"
      }
    },
    {
      "cell_type": "markdown",
      "source": [
        "# **Exploratory Data Analysis and Preprocessing**"
      ],
      "metadata": {
        "id": "AtKBgLBNF-Q-"
      }
    },
    {
      "cell_type": "code",
      "execution_count": null,
      "metadata": {
        "id": "QaGReAiJnqE0"
      },
      "outputs": [],
      "source": [
        "import plotly.express as px\n",
        "from sklearn.decomposition import PCA\n",
        "import pandas as pd\n",
        "import seaborn as sns\n",
        "import matplotlib.pyplot as plt\n",
        "import numpy as np\n",
        "import scipy.stats\n",
        "import datetime\n",
        "import torch\n",
        "import torch.nn as nn\n",
        "from tensorflow import keras\n",
        "import tensorflow as tf\n",
        "from yellowbrick.target import FeatureCorrelation\n",
        "\n",
        "\n",
        "\n",
        "\n",
        "import pandas as pd\n",
        "from tkinter import filedialog\n",
        "import os\n",
        "from os import listdir\n",
        "from os.path import isfile, join\n",
        "from scipy.stats import zscore\n",
        "import torch\n",
        "from sklearn import preprocessing\n",
        "from sklearn.model_selection import KFold, cross_val_score, train_test_split\n",
        "from sklearn.model_selection import KFold\n",
        "\n",
        "\n",
        "\n",
        "from sklearn.metrics import recall_score\n",
        "from sklearn.metrics import f1_score\n",
        "from sklearn.metrics import precision_score\n",
        "from sklearn.metrics import classification_report\n",
        "from sklearn.metrics import confusion_matrix\n",
        "from sklearn.metrics import accuracy_score\n",
        "\n",
        "\n",
        "from sklearn.feature_selection import SelectKBest\n",
        "from sklearn.feature_selection import chi2"
      ]
    },
    {
      "cell_type": "code",
      "execution_count": null,
      "metadata": {
        "colab": {
          "base_uri": "https://localhost:8080/",
          "height": 334
        },
        "id": "Fr1VKRUIbHPG",
        "outputId": "59decd8f-53bf-4463-db39-5c5d1949a8f8"
      },
      "outputs": [
        {
          "data": {
            "text/html": [
              "\n",
              "  <div id=\"df-37fbbd26-ece8-479d-91a5-c81a90a3e022\">\n",
              "    <div class=\"colab-df-container\">\n",
              "      <div>\n",
              "<style scoped>\n",
              "    .dataframe tbody tr th:only-of-type {\n",
              "        vertical-align: middle;\n",
              "    }\n",
              "\n",
              "    .dataframe tbody tr th {\n",
              "        vertical-align: top;\n",
              "    }\n",
              "\n",
              "    .dataframe thead th {\n",
              "        text-align: right;\n",
              "    }\n",
              "</style>\n",
              "<table border=\"1\" class=\"dataframe\">\n",
              "  <thead>\n",
              "    <tr style=\"text-align: right;\">\n",
              "      <th></th>\n",
              "      <th>Unnamed: 0</th>\n",
              "      <th>Number</th>\n",
              "      <th>Age</th>\n",
              "      <th>Gender</th>\n",
              "      <th>The only child</th>\n",
              "      <th>Place of residence</th>\n",
              "      <th>Town or country</th>\n",
              "      <th>Education</th>\n",
              "      <th>Occupation</th>\n",
              "      <th>Post</th>\n",
              "      <th>...</th>\n",
              "      <th>SCL_86</th>\n",
              "      <th>SCL_87</th>\n",
              "      <th>SCL_88</th>\n",
              "      <th>SCL_89</th>\n",
              "      <th>SCL_90</th>\n",
              "      <th>SCL_Sum</th>\n",
              "      <th>GSI</th>\n",
              "      <th>SCL_ZScore</th>\n",
              "      <th>SCL_TScore</th>\n",
              "      <th>SCL_Label</th>\n",
              "    </tr>\n",
              "  </thead>\n",
              "  <tbody>\n",
              "    <tr>\n",
              "      <th>0</th>\n",
              "      <td>0</td>\n",
              "      <td>1</td>\n",
              "      <td>18</td>\n",
              "      <td>2</td>\n",
              "      <td>2</td>\n",
              "      <td>11</td>\n",
              "      <td>1</td>\n",
              "      <td>2</td>\n",
              "      <td>4</td>\n",
              "      <td>1</td>\n",
              "      <td>...</td>\n",
              "      <td>2</td>\n",
              "      <td>1</td>\n",
              "      <td>1</td>\n",
              "      <td>1</td>\n",
              "      <td>1</td>\n",
              "      <td>108</td>\n",
              "      <td>1.200000</td>\n",
              "      <td>-0.220480</td>\n",
              "      <td>47.795205</td>\n",
              "      <td>Low</td>\n",
              "    </tr>\n",
              "    <tr>\n",
              "      <th>1</th>\n",
              "      <td>1</td>\n",
              "      <td>2</td>\n",
              "      <td>18</td>\n",
              "      <td>2</td>\n",
              "      <td>1</td>\n",
              "      <td>13</td>\n",
              "      <td>1</td>\n",
              "      <td>2</td>\n",
              "      <td>4</td>\n",
              "      <td>2</td>\n",
              "      <td>...</td>\n",
              "      <td>1</td>\n",
              "      <td>1</td>\n",
              "      <td>1</td>\n",
              "      <td>1</td>\n",
              "      <td>1</td>\n",
              "      <td>91</td>\n",
              "      <td>1.011111</td>\n",
              "      <td>-0.618004</td>\n",
              "      <td>43.819963</td>\n",
              "      <td>Low</td>\n",
              "    </tr>\n",
              "    <tr>\n",
              "      <th>2</th>\n",
              "      <td>2</td>\n",
              "      <td>3</td>\n",
              "      <td>19</td>\n",
              "      <td>2</td>\n",
              "      <td>1</td>\n",
              "      <td>4</td>\n",
              "      <td>1</td>\n",
              "      <td>2</td>\n",
              "      <td>6</td>\n",
              "      <td>2</td>\n",
              "      <td>...</td>\n",
              "      <td>5</td>\n",
              "      <td>4</td>\n",
              "      <td>4</td>\n",
              "      <td>3</td>\n",
              "      <td>5</td>\n",
              "      <td>294</td>\n",
              "      <td>3.266667</td>\n",
              "      <td>4.128903</td>\n",
              "      <td>91.289029</td>\n",
              "      <td>High</td>\n",
              "    </tr>\n",
              "    <tr>\n",
              "      <th>3</th>\n",
              "      <td>3</td>\n",
              "      <td>4</td>\n",
              "      <td>19</td>\n",
              "      <td>2</td>\n",
              "      <td>2</td>\n",
              "      <td>3</td>\n",
              "      <td>1</td>\n",
              "      <td>2</td>\n",
              "      <td>4</td>\n",
              "      <td>2</td>\n",
              "      <td>...</td>\n",
              "      <td>1</td>\n",
              "      <td>1</td>\n",
              "      <td>1</td>\n",
              "      <td>1</td>\n",
              "      <td>1</td>\n",
              "      <td>91</td>\n",
              "      <td>1.011111</td>\n",
              "      <td>-0.618004</td>\n",
              "      <td>43.819963</td>\n",
              "      <td>Low</td>\n",
              "    </tr>\n",
              "    <tr>\n",
              "      <th>4</th>\n",
              "      <td>4</td>\n",
              "      <td>5</td>\n",
              "      <td>19</td>\n",
              "      <td>2</td>\n",
              "      <td>2</td>\n",
              "      <td>13</td>\n",
              "      <td>2</td>\n",
              "      <td>2</td>\n",
              "      <td>4</td>\n",
              "      <td>2</td>\n",
              "      <td>...</td>\n",
              "      <td>4</td>\n",
              "      <td>4</td>\n",
              "      <td>4</td>\n",
              "      <td>4</td>\n",
              "      <td>4</td>\n",
              "      <td>332</td>\n",
              "      <td>3.688889</td>\n",
              "      <td>5.017486</td>\n",
              "      <td>100.174863</td>\n",
              "      <td>High</td>\n",
              "    </tr>\n",
              "  </tbody>\n",
              "</table>\n",
              "<p>5 rows × 129 columns</p>\n",
              "</div>\n",
              "      <button class=\"colab-df-convert\" onclick=\"convertToInteractive('df-37fbbd26-ece8-479d-91a5-c81a90a3e022')\"\n",
              "              title=\"Convert this dataframe to an interactive table.\"\n",
              "              style=\"display:none;\">\n",
              "        \n",
              "  <svg xmlns=\"http://www.w3.org/2000/svg\" height=\"24px\"viewBox=\"0 0 24 24\"\n",
              "       width=\"24px\">\n",
              "    <path d=\"M0 0h24v24H0V0z\" fill=\"none\"/>\n",
              "    <path d=\"M18.56 5.44l.94 2.06.94-2.06 2.06-.94-2.06-.94-.94-2.06-.94 2.06-2.06.94zm-11 1L8.5 8.5l.94-2.06 2.06-.94-2.06-.94L8.5 2.5l-.94 2.06-2.06.94zm10 10l.94 2.06.94-2.06 2.06-.94-2.06-.94-.94-2.06-.94 2.06-2.06.94z\"/><path d=\"M17.41 7.96l-1.37-1.37c-.4-.4-.92-.59-1.43-.59-.52 0-1.04.2-1.43.59L10.3 9.45l-7.72 7.72c-.78.78-.78 2.05 0 2.83L4 21.41c.39.39.9.59 1.41.59.51 0 1.02-.2 1.41-.59l7.78-7.78 2.81-2.81c.8-.78.8-2.07 0-2.86zM5.41 20L4 18.59l7.72-7.72 1.47 1.35L5.41 20z\"/>\n",
              "  </svg>\n",
              "      </button>\n",
              "      \n",
              "  <style>\n",
              "    .colab-df-container {\n",
              "      display:flex;\n",
              "      flex-wrap:wrap;\n",
              "      gap: 12px;\n",
              "    }\n",
              "\n",
              "    .colab-df-convert {\n",
              "      background-color: #E8F0FE;\n",
              "      border: none;\n",
              "      border-radius: 50%;\n",
              "      cursor: pointer;\n",
              "      display: none;\n",
              "      fill: #1967D2;\n",
              "      height: 32px;\n",
              "      padding: 0 0 0 0;\n",
              "      width: 32px;\n",
              "    }\n",
              "\n",
              "    .colab-df-convert:hover {\n",
              "      background-color: #E2EBFA;\n",
              "      box-shadow: 0px 1px 2px rgba(60, 64, 67, 0.3), 0px 1px 3px 1px rgba(60, 64, 67, 0.15);\n",
              "      fill: #174EA6;\n",
              "    }\n",
              "\n",
              "    [theme=dark] .colab-df-convert {\n",
              "      background-color: #3B4455;\n",
              "      fill: #D2E3FC;\n",
              "    }\n",
              "\n",
              "    [theme=dark] .colab-df-convert:hover {\n",
              "      background-color: #434B5C;\n",
              "      box-shadow: 0px 1px 3px 1px rgba(0, 0, 0, 0.15);\n",
              "      filter: drop-shadow(0px 1px 2px rgba(0, 0, 0, 0.3));\n",
              "      fill: #FFFFFF;\n",
              "    }\n",
              "  </style>\n",
              "\n",
              "      <script>\n",
              "        const buttonEl =\n",
              "          document.querySelector('#df-37fbbd26-ece8-479d-91a5-c81a90a3e022 button.colab-df-convert');\n",
              "        buttonEl.style.display =\n",
              "          google.colab.kernel.accessAllowed ? 'block' : 'none';\n",
              "\n",
              "        async function convertToInteractive(key) {\n",
              "          const element = document.querySelector('#df-37fbbd26-ece8-479d-91a5-c81a90a3e022');\n",
              "          const dataTable =\n",
              "            await google.colab.kernel.invokeFunction('convertToInteractive',\n",
              "                                                     [key], {});\n",
              "          if (!dataTable) return;\n",
              "\n",
              "          const docLinkHtml = 'Like what you see? Visit the ' +\n",
              "            '<a target=\"_blank\" href=https://colab.research.google.com/notebooks/data_table.ipynb>data table notebook</a>'\n",
              "            + ' to learn more about interactive tables.';\n",
              "          element.innerHTML = '';\n",
              "          dataTable['output_type'] = 'display_data';\n",
              "          await google.colab.output.renderOutput(dataTable, element);\n",
              "          const docLink = document.createElement('div');\n",
              "          docLink.innerHTML = docLinkHtml;\n",
              "          element.appendChild(docLink);\n",
              "        }\n",
              "      </script>\n",
              "    </div>\n",
              "  </div>\n",
              "  "
            ],
            "text/plain": [
              "   Unnamed: 0  Number  Age  Gender  The only child  Place of residence  \\\n",
              "0           0       1   18       2               2                  11   \n",
              "1           1       2   18       2               1                  13   \n",
              "2           2       3   19       2               1                   4   \n",
              "3           3       4   19       2               2                   3   \n",
              "4           4       5   19       2               2                  13   \n",
              "\n",
              "   Town or country  Education  Occupation  Post  ...  SCL_86  SCL_87  SCL_88  \\\n",
              "0                1          2           4     1  ...       2       1       1   \n",
              "1                1          2           4     2  ...       1       1       1   \n",
              "2                1          2           6     2  ...       5       4       4   \n",
              "3                1          2           4     2  ...       1       1       1   \n",
              "4                2          2           4     2  ...       4       4       4   \n",
              "\n",
              "   SCL_89  SCL_90  SCL_Sum       GSI  SCL_ZScore  SCL_TScore  SCL_Label  \n",
              "0       1       1      108  1.200000   -0.220480   47.795205        Low  \n",
              "1       1       1       91  1.011111   -0.618004   43.819963        Low  \n",
              "2       3       5      294  3.266667    4.128903   91.289029       High  \n",
              "3       1       1       91  1.011111   -0.618004   43.819963        Low  \n",
              "4       4       4      332  3.688889    5.017486  100.174863       High  \n",
              "\n",
              "[5 rows x 129 columns]"
            ]
          },
          "execution_count": 35,
          "metadata": {},
          "output_type": "execute_result"
        }
      ],
      "source": [
        "df =pd.read_csv('/content/gdrive/My Drive/psych_data.csv')\n",
        "df.head()"
      ]
    },
    {
      "cell_type": "code",
      "execution_count": null,
      "metadata": {
        "id": "Trff4tb-47bv"
      },
      "outputs": [],
      "source": [
        "data = data.drop(['SCL_Sum'], axis = 1)\n",
        "data = data.drop(['SCL_ZScore'], axis = 1)\n",
        "data = data.drop(['SCL_TScore'], axis = 1)\n",
        "data = data.drop(['Unnamed: 0'], axis = 1)\n",
        "data = data.drop(['GSI'], axis = 1)\n",
        "data = data.drop(['Place of residence'], axis = 1)\n",
        "data = data.drop(['Employment type'], axis = 1)\n",
        "data.set_index('Number', inplace=True)"
      ]
    },
    {
      "cell_type": "code",
      "execution_count": null,
      "metadata": {
        "colab": {
          "base_uri": "https://localhost:8080/",
          "height": 361
        },
        "id": "oSKYp6yDjBU0",
        "outputId": "95ea915e-75e5-43ea-b040-8d7a84dcdbba"
      },
      "outputs": [
        {
          "output_type": "display_data",
          "data": {
            "text/plain": [
              "<Figure size 576x396 with 1 Axes>"
            ],
            "image/png": "[encoded data removed]"
          },
          "metadata": {}
        }
      ],
      "source": [
        "ax1 = sns.countplot(y=df['SCL_Label'], data=df, linewidth=2)"
      ]
    },
    {
      "cell_type": "code",
      "execution_count": null,
      "metadata": {
        "id": "cjOL1SmLvDXP"
      },
      "outputs": [],
      "source": [
        "from sklearn.decomposition import PCA\n",
        "from sklearn.preprocessing import StandardScaler\n",
        "from sklearn.pipeline import Pipeline\n",
        "pca = PCA()\n",
        "#pipe = Pipeline([('scaler', StandardScaler()), ('pca', pca)])\n",
        "Xt = pca.fit_transform(X)\n",
        "plot = plt.scatter(Xt[:,0], Xt[:,1], c=[data[\"SCL_Label\"]])\n",
        "plt.legend(handles=plot.legend_elements()[0], labels=list(data['SCL_Label']))\n",
        "plt.show()"
      ]
    },
    {
      "cell_type": "code",
      "execution_count": null,
      "metadata": {
        "colab": {
          "base_uri": "https://localhost:8080/",
          "height": 542
        },
        "id": "ePoGKp2AncPi",
        "outputId": "284b6b37-dea4-4ac9-b8e7-bc49dd8c2447"
      },
      "outputs": [
        {
          "data": {
            "text/html": [
              "<html>\n",
              "<head><meta charset=\"utf-8\" /></head>\n",
              "<body>\n",
              "    <div>            <script src=\"https://cdnjs.cloudflare.com/ajax/libs/mathjax/2.7.5/MathJax.js?config=TeX-AMS-MML_SVG\"></script><script type=\"text/javascript\">if (window.MathJax) {MathJax.Hub.Config({SVG: {font: \"STIX-Web\"}});}</script>                <script type=\"text/javascript\">window.PlotlyConfig = {MathJaxConfig: 'local'};</script>\n",
              "        <script src=\"https://cdn.plot.ly/plotly-2.8.3.min.js\"></script>                <div id=\"b6c8b28c-0f0a-4506-84bb-b94cd93629e7\" class=\"plotly-graph-div\" style=\"height:525px; width:100%;\"></div>            <script type=\"text/javascript\">                                    window.PLOTLYENV=window.PLOTLYENV || {};                                    if (document.getElementById(\"b6c8b28c-0f0a-4506-84bb-b94cd93629e7\")) {                    Plotly.newPlot(                        \"b6c8b28c-0f0a-4506-84bb-b94cd93629e7\",                        [{\"hovertemplate\":\"color=Low<br>PC 1=%{x}<br>PC 2=%{y}<extra></extra>\",\"legendgroup\":\"Low\",\"marker\":{\"color\":\"#636efa\",\"symbol\":\"circle\"},\"mode\":\"markers\",\"name\":\"Low\",\"orientation\":\"v\",\"showlegend\":true,\"x\":[-2289.915121549887,1455.1239842992866,-1619.9955584732145,238.03322141568316,370.05032098626754,2531.265146628044,-2380.9736215429098,1700.151780215743,272.0484705978363,937.110947688123,-1322.998352648972,1928.1670330250718,437.0757591996352,-8.960183799318305,-2272.889135456174,2239.179689335784,-1962.9934841192762,103.00494462842262,-1771.9524674371335,-997.9953675737456,1025.0860120818336,-636.9304471371595,-1414.9369877689107,-1493.974206809659,1890.1577431069018,352.04411846178647,1081.1167634627718,-1187.9794936267324,36.057290039726006,1887.1563377571426,-1796.956477897166,-2093.945576402243,1549.1569502204957,2204.170565347273,-1982.9977255389401,-1429.9484665398743,-1047.0081751552966,1108.1361221439429,-1187.9794936267324,2086.173600945033,315.1217277803877,-2028.0113390272477,-912.975758201265,573.1113825787023,-680.9781479601362,-1164.9737261565353,144.03010275163237,2454.2475792430805,1013.1383999046192,-2510.0138112675845,611.067157438226,-280.94619646901396,1596.1429132934159,914.1064032490843,-597.9945398454789,-884.9654583610695,522.0637361936864,-1374.8911232515522,-1221.987279999786,928.1099954735658,903.1005465740667,-2369.9701792781066,1884.1525133824855,118.0143235649734,713.0841415490327,-1876.9807238481515,-1212.9821984381463,1325.1385469521204,-845.9454431840954,274.0472960317588,1514.138744430568,-2281.9042337540827,-1152.9684079203448,-1310.999226309838,2499.2455999784647,2266.2000875650033,-1179.979219081028,-655.9549189713211,-729.9868387368116,419.05655875271555,-2063.926886447365,-726.9879557116705,2135.1825526303064,2040.1696439179934,-1047.0081751552966,1534.1491492803518,-1809.9630109268023,235.03228810991865,-1457.956466555644,2103.17229396528,-952.9851111652856,2442.2330778723895,-725.9872034841524,1360.1222419886344,2535.2687212369256,1299.1283062847992,-2428.9946870287727,557.090283549847,-597.9945398454789,-2372.9706878210827,-787.001072843123,-60.97024593744255,687.1689316243578,-1918.9909948002964,-2035.8805636186169,-2372.9706878210827,2454.2475792430805,2436.2210555077663,-346.98088085488104,-768.994315110706,1837.1681361762423,-650.9527179296958,-6.961694281462406,-2197.9911336928203,-300.9686249446924,-306.9718746231177,-2505.012777109356,-556.9872374333157,1456.125604295574,-491.9661065606382,149.0286384961127,-1915.989594870904,-648.9525295905943,557.090283549847,-2341.959951870989,1115.0902553330125,-2119.9574288334315,778.0926790612006,-2020.0068286202616,2481.2466667962362,-335.9771829277927,759.1348780369325,-1713.9176020900675,1193.1240389573113,-783.995250620946,-1828.9708329062973,-545.9806198106113,-2074.9309876344932,-56.9712164637114,-1656.00327266266,283.05257558179943,843.092295688869,1648.16048152176,-257.89632320291827,212.0178493703486,-107.9729972466752,-645.945797043147,2227.17523942388,1471.128214785732,2022.1659745268469,-1641.0001201939738,869.0965013423697,849.0916090634474,1984.1966274180131,1634.1521823545702,-1681.863760884124,2520.2664633554696,2116.1763106452963,165.03862446288932,-2271.889707857916,-1856.9761585934132,-1213.9801218290115,-1472.9611176429632,1793.1594039233305,-2415.9893055143325,1067.1128145910122,2133.1819020512876,-1933.9884687568165,-1692.8848355847936,-1387.9178701771336,525.0692164789547,-432.932870548076,-1229.986606638755,-830.9371361161926,-2049.9072893033203,433.06620366218374,-241.9947683699834,1657.1727658077864,-2133.9667125662727,-1069.8865145595157,-1646.9977118131924,-32.964513308054734,1302.128554750708,1861.174278032423,1671.1483323486402,263.04203520773575,-700.9820365411707,-25.965589961540562,1270.1171039088385,-248.00081697302693,2472.29260145165,-397.8752872803061,-1413.938461939467,-60.97024593744255,-690.9770796470776,2285.1856388473952,2277.1799876901555,1275.1178988351057,-762.9919885614637,1217.135650227999,1895.1574637862504,1047.1082185442751,-2379.9734843738875,-1334.004093457156,-1338.0032639123676,2036.1695022791928,-1174.9725475910948,777.0936432787202,-236.98781363083378,-1200.9834966827086,-1907.98962001047,-294.9627009236671,-997.9953675737456,307.08396101317555,2195.165004894955,255.037285050679,2450.238041835823,-353.9819052640133,1895.1574637862504,817.0773919485719,1080.1164217838145,927.1050434907748,-644.9457329972907,1489.1347371728737,49.063786536846685,2288.1886487026477,-2381.9740102895503,956.115217412168,1271.116650004217,2076.173883167901,477.0490205487506,-1898.9849862361432,-944.9848742483794,584.1466767197145,-2374.969585176626,-38.964198766933514,2095.173421113217,1947.1706011603155,-528.9811902950688,-2101.9518542203937,590.0486957492984,2453.242244201291,-1718.9159763931639,-897.9769703128012,-1900.9847328363885,800.1035819683595,-1687.8824563168996,-305.9668688431311,2267.1986212583624,488.05488509581795,-1923.9905945167054,2110.176769019007,-433.9317614192492,-138.9789252193867,-1918.9909948002964,1539.1524548754358,-2114.9565373137434,-1982.9977255389401,-1436.9489153270213,-1351.0137720979583,133.02371942581394,-2454.997905894331,-1872.9803723003158,-246.9959460147049,-1324.998794179699,-2207.9945263334725,-22.961238778475522,304.0731348467644,711.0779855972884,-1051.0124165822783,-0.9559986066997418,1820.1633947145347,-1959.992312136941,428.06162903937627,-1060.0180002957065,2427.2528807865015,281.0521661292753,1280.1171460855671,2421.233757680684,1933.166552578946,-2419.9893968083065,-1721.9215128314095,972.1178072736617,1908.1634754845484,2341.2157415769752,-2311.9357228747363,-384.002335336755,711.0779855972884,2192.1634527473016,2419.2280349175403,318.00800602748984,-761.990080013608,839.0927561837044,1796.1584405278586,-2205.9910074255495,22.05397097782885,2570.328171345934,1683.1472036149678,37.05885738080887,-704.9817173539424,1265.1123537349952,-1809.9630109268023,-818.9155604971239,2365.2017749298334,1803.15959766025,-930.9866147813758,1096.1275870716238,-721.986673608013,-380.99566735392045,1201.1304311015622,-376.9963630444336,1914.1681368473455,-273.93726222210535,1478.1350551636106,1250.108254646161,-2145.965355540232,67.06714330648512,-641.9412028524266,1209.1297171062668,1001.1287912579775,318.00800602748984,1032.0965956861542,2135.1825526303064,-886.9712430747982,-1002.998150606095,2305.1793605613807,924.105482883727,-1706.9110408232493,-1710.9176884241547,-2006.0025143776393,1843.1685504243865,266.0429524869791,-831.9352875427475,-1617.9958391728208,-1506.9773970350384,-718.9868695499151,1089.122064695163,-1580.9834072521562,-1792.957105847976,-1820.9669290737666,266.0429524869791,687.1689316243578,2228.1745519002143,2333.199309099025,-2107.9520502306036,2093.1729924476303,2542.278731863204,168.04019021770634,-2483.0041174472267,-902.9762444198582,-675.9725191602414,-2212.995098469049,-2151.9703702858237,-1803.9613782923047,-2371.9713985834865,-2191.991056259139,307.08396101317555,1531.1495443867698,-1638.9985755614466,2238.1799833137156,469.0443658979214,-857.9512624380335,-803.0050530115868,1071.117054734352,367.0459881996079,-124.97673842191527,-636.9304471371595,-1101.9381533757835,1927.166947151039,2077.17380353662,2479.236723961205,437.0757591996352,-1343.0067304982977,1502.1388867645471,1192.1250305998224,-2380.9736215429098,-637.9361095465051,-1568.9857401943004,1295.1284003060548,-189.98687996709782,2182.20510858527,-1200.9834966827086,315.1217277803877,-1609.9895478469077,-472.9626698266995,74.07829596355175,-352.98087511670195,-314.9711972329217,1613.140391679278,1393.1316791449701,245.03308132185214,585.0378742496882,-2146.9670633848555,1235.172263132705,1693.1520238733665,1320.1331980433863,777.0936432787202,-257.89632320291827,-2229.0003926873405,1768.155651474985,-1039.0014906827948,328.03162056931626,-1652.003180178496,-2190.9899735867857,62.0684042762837,2262.19497713373,577.1207028242017,-2350.9667812185057,-1491.972663309287,2406.2183906877926,1318.1325327093316,2534.2639429146534,2393.2077596437384,900.1023824283376,-541.9805989751442,-1273.9954315722234,831.0855914183526,-1847.9762910037107,-1053.0120290457646,2560.280034435848,-2122.956564121866,511.06471931084747,1475.1359312787201,-686.9768788626125,-2461.9989478679554,455.0285876805908,-319.9769124217556,-934.9856502639716,-447.94119025128833,-1317.9993476944646,1470.1299050818877,2527.2635512066945,-626.9060292312553,692.0613451647222,-897.9769703128012,-1621.9934112115948,927.1050434907748,-2057.9220045798907,1755.1507347408474,451.1608836467685,2287.190084372121,1750.1519984368936,-892.9708649328101,65.06688538568982,697.072728049804,1666.142365416052,908.1002950764771,953.1141705318398,663.0791925378524,-1135.9582078376636,569.1006244253235,2569.320869683231,-255.85773124036658,1589.139086134694,-2473.0032494727257,1693.1520238733665,1090.1226272844467,852.0926073422662,-1786.957502285862,-2147.967076123423,-303.9684864436619,2518.267714525867,1913.1682537818378,-812.8839506431884,-2112.9568035896846,-689.9766356799801,-329.9769124403229,-1686.8748524579657,1915.1676732021522,-1506.9773970350384,1785.15932892573,-977.9878062969962],\"xaxis\":\"x\",\"y\":[14.546065491019919,-2.975759378310597,-3.1518845621444656,-5.80145872872312,-4.266057771570071,6.2209427530941115,2.7706392359221623,-0.7425469782609204,-3.797906622064341,-0.1963386682828644,-5.10233534971536,0.9887741702674506,0.3221224284979048,-3.1752678049410696,18.536699642503706,1.1160900089912407,-2.1033708101756696,-10.064764902101013,4.836869444516675,-4.530877131010876,-5.6572255330012995,5.6076183386107115,5.962007199635419,1.0571492191069924,-1.3087273363479817,-5.237202896596549,-0.07576734995090172,-0.7924241763774126,0.8069505393782618,-1.4066940461719646,4.384340260607817,7.153663455235758,3.738550958086521,-0.537164053015216,-3.5943670889124597,5.8202511174480716,-8.26557156612165,4.075560661707305,-0.7924241763774126,0.3191698388336006,9.20745105257095,-5.978216937344562,-1.9849010050804998,4.498539241433821,-2.662800674366519,0.10003930800745221,-5.529598120183738,8.37969260687702,5.075961672412628,-3.5558992249715637,-3.776219206155077,0.7461298723287282,-0.6385526338985501,-1.0895613307593224,-6.786876224667749,-0.9157618266905477,-3.683747640438318,15.14559838409587,-3.0901103869393096,-0.08982545807055883,-2.140104896125339,3.83499598893334,-2.0737545416034813,-8.305876790305865,-3.272677092186679,0.7054699020043335,-1.9477105132753598,1.4419728324847538,2.8552347855164744,-3.2585525668027895,-0.14377475921198687,15.861499580262416,0.787380039336167,-5.539113799364626,4.282806005755025,4.341434023062484,-0.6935181206384985,-0.21573400148767458,-5.33352102502452,-4.266346834519636,10.861369420276661,-4.423164909659068,2.391738093658341,-0.038442012286818004,-8.26557156612165,1.051868462105733,3.4091261814270064,-5.852689751312994,3.569042738537063,0.3770867754103718,-3.764607910262045,5.73549724532143,-4.64514805365061,-2.3139495786069,7.2338222721062895,-1.0444548637133981,-0.9597244487807971,0.7496685728343093,-6.786876224667749,3.853812984814321,-7.275155887829813,-4.545519242409414,12.789280041868057,-1.2564747332147923,19.93117784322004,3.853812984814321,8.37969260687702,3.759316341373506,-6.8687603010024905,-7.373876660708237,2.045609120892273,1.6319562169086865,-2.578681675448396,-1.1089247748999,-3.1701861212895275,-3.9183192748357265,-4.00648739118954,-5.265728522974512,-3.576621629308977,-2.335152318130663,-6.071970618710895,-0.9223486998808597,2.2417539919118985,0.7496685728343093,5.8285525032881065,-5.699557230186534,5.920070722691421,-2.29659368261968,-4.937024011132302,5.331450958192171,-4.866251541454936,6.332362201106529,12.012729967371435,0.5331239929190301,-7.088134624490819,1.2666891336315433,-5.414019788520375,9.949261061465691,-4.539306530713822,-5.092829017202719,-2.229415825039218,-3.5053756193940906,3.0942181726358555,10.564631767199776,-9.659155849134486,-5.180747368742831,2.1982878300363744,-0.2666497397504106,-1.711563309371769,-1.256487022902205,-4.164819443803357,-2.6652754179287754,-3.162526383364751,6.408740335820816,1.3006418381097704,20.666307360363614,8.44016664246044,1.3369843810781679,-3.7098533127294875,19.16442670809504,0.45673907619381093,-1.8330178383225677,2.7111268390713663,0.5013184250235316,0.8150499450866081,-0.9088733184346439,2.6702437619897053,-1.3762093246130735,17.55023018391226,11.197957020652686,-3.140065368114994,4.528296297893937,-2.977964151988398,5.907791903470213,15.08809454696371,-1.9731981985198723,-9.464046046142544,4.798542224565155,3.250496948143801,15.969504331451322,-4.028258344018865,-3.9019824108088463,0.059902005620551445,2.532924897346922,-1.091927176237487,-4.274665753867019,-3.9463252885393487,-4.228076919294813,-1.6509876581179619,-9.583249524751237,14.980214037661103,15.396072331553796,7.710137425305201,-4.545519242409414,-4.1646921365445575,0.8625163805421835,0.19603137443689964,-1.986634721942122,-5.768663622251031,2.112921539703137,-0.932630868563054,-1.8429607669703347,2.443917414496181,-6.819711304379046,-6.902869447580802,-0.536982926814928,-0.22439583828713025,-3.144744628728898,-8.42839613208057,-1.3706102483917384,-1.828217501386236,-2.166269592085245,-4.530877131010876,3.477177557785487,-1.671510775301167,-5.423216941778793,5.370487676028742,-6.00771999611034,-0.932630868563054,-7.017778173832086,0.06469867565582992,-1.0198794270275795,2.8150715327740117,-0.9924526604235284,1.3269088718309512,1.9054606807121028,2.875393544883437,0.1080868036440654,-1.7539237126670897,0.3213714797516249,-5.5306373111891585,-1.1903754662845007,-4.294743647648037,11.238668821847146,3.6353700991585005,-3.5297786866376337,0.8379830056091979,1.1485353480792218,-4.713334617636141,6.820875701009024,-8.436774106321305,7.231338043246769,11.75643249143749,-2.168194957109798,-0.9673714614316926,-0.5111989576662873,18.781151452995648,-3.017702246571818,4.346752873560673,-4.964162011421753,-1.255511811105188,1.7219973149752608,4.794584455621949,-5.897315714296481,-1.2564747332147923,2.515128939875381,5.5574656278432695,-3.5943670889124597,5.661435400989316,-7.799005172808746,-6.49002929458188,-1.5889575557136124,-0.10709349530709456,-9.10588568704373,-5.25851504275928,-1.8441588880256923,-3.560030736241948,1.3936653769850895,-3.999029987296425,-8.511658173312318,-2.0686303978233354,0.24294397506797766,-2.812037525310585,-3.096787982352008,-10.060124196204525,10.47263482991318,-2.8938953755964527,-2.0840879464042144,6.019119368291859,0.30482964002253593,0.056861743280947556,10.187523574490175,1.475895178531722,-0.6350595953957203,5.505132402895991,10.585882727557248,-9.729125712236621,-3.999029987296425,-1.493130056353486,5.380325676985519,-10.923825330378975,-5.629002364356466,-3.417094114968379,0.5336436275582386,-0.37424669950599876,-0.14233247005230232,13.70344408428611,-1.0387459154415435,0.7046724815533872,-3.937725901958848,-3.034701437918149,3.4091261814270064,9.764308384648583,1.3473755906749532,0.4222821389528905,-2.9658792472894904,1.1678162212131022,-4.44719142382886,-8.413481004636612,0.9590852606767403,-8.598688671704542,0.34643323572884305,2.420369578829505,-1.0718709266266286,-3.6797052500818954,3.5012159044863544,2.636407157528004,2.6061566982959845,0.9563624819401516,3.200679805052414,-10.923825330378975,-3.6837100111314256,2.391738093658341,-1.5399609277730752,-5.829177316236688,-1.1538457646119629,-1.7936343259011798,12.767504634710733,12.195142085413764,-3.8751054239902056,2.178993172739783,-4.112477540772236,5.687359239642967,-2.8965898915046124,0.5108264990101871,-4.149129113890386,0.9345140164517467,-1.666453656057906,5.006078972805163,3.3271690927289446,-4.112477540772236,12.789280041868057,0.38266207225295396,2.5100886023921856,6.00052492788923,1.089465784782999,9.012116380532431,-4.710898618078884,-1.893854807555902,-1.6420985744584202,-1.9411868957952718,-1.9707504831455505,2.778003196383743,3.8236835617022216,4.204313259427732,-1.4666004041391545,3.477177557785487,1.4280578807728015,-4.190901655979977,1.1869665795702453,-6.443771306943532,2.7603017719830776,-7.999796305302531,-0.527429733049179,-4.859574625676145,-6.093693326937037,5.6076183386107115,6.707973482049137,0.5338558369730094,1.0095716261875536,2.9502517512579884,0.3221224284979048,-6.752003598698234,-0.6940336476608961,0.23847202842219908,2.7706392359221623,3.4431445019426374,-1.9703577430119248,-0.09500937462398604,-7.722851311740138,7.130638039836974,-1.3706102483917384,9.20745105257095,-3.0500883467740905,-1.1527051204574454,4.014645392832989,-6.4449413347203555,-4.807056829843925,-0.6413611590040539,-0.5031574696083547,-5.824153159261795,-9.423420026669012,3.5803828910606215,8.281024836940945,0.19231305867617252,0.12111716040379977,-3.144744628728898,10.564631767199776,-2.668421790599741,-0.12103080312258903,-7.51812572615208,-7.4429244107768335,-5.189398993916984,-2.396737664302614,2.434294042875785,3.5575159770772133,6.660763934336525,5.052024477051462,1.4086902713946112,3.0919175461331876,0.04154986264806367,6.249778967071055,1.34985839830653,-2.9800862763506015,-5.406712805030193,-4.4853077317489,-4.710021823201704,1.16588763992302,-9.654531027345483,8.513298363716439,5.920146271445294,-3.2411173476197352,-1.111322894791667,-3.5775375971958527,-1.0885875937410119,-9.20266611609616,-5.544082750524426,-4.314138738639031,2.682481887837322,-5.074550102927038,-2.2924609195045242,6.620120988817993,10.776905461339165,-6.4327635078104946,-2.168194957109798,-3.048304947840102,-1.0198794270275795,12.158116280071752,-1.0821117650710772,15.240545075876753,2.146672392802771,-1.867023027050323,-2.03047509805606,2.3412310641016534,-5.445115894684895,-1.882917301513472,-2.7280882238817683,0.9790178266053533,-3.920661236344178,1.8912837468589652,2.694218082647627,13.736235223929114,17.63503373454148,-2.1674373215026312,-2.3309891041336948,0.19231305867617252,-0.07604894598558669,-3.730045376891073,5.074541095149453,3.7752181626880525,-3.1659647774502755,7.686130328923559,0.768851392824383,15.68819899187424,5.912910615706701,-3.710266054513794,-4.75669698871008,18.573972985179914,0.7834103701987203,0.5108264990101866,0.034509165646736235,-4.211785892396315],\"yaxis\":\"y\",\"type\":\"scatter\"},{\"hovertemplate\":\"color=High<br>PC 1=%{x}<br>PC 2=%{y}<extra></extra>\",\"legendgroup\":\"High\",\"marker\":{\"color\":\"#EF553B\",\"symbol\":\"circle\"},\"mode\":\"markers\",\"name\":\"High\",\"orientation\":\"v\",\"showlegend\":true,\"x\":[1037.0965310231375,524.0702936757976,-1218.9854670592053,-1478.966746115957,-2256.0200498252284,-1635.997781701792,885.0961056529527,745.0997694993656,1368.1226572923315,-1040.0079070529541,-452.9515495705397,189.07610992028046,2258.1954684924044,204.01321559769224,-1834.9708931730918,2137.182390441001,2298.2069839660085,-1887.9848421146335,-59.96927086927412,1037.0965310231375,1607.1438501086673,-942.9843838072077,34.06022598051186,1442.1668791749498,41.0587806029984,521.0647577329887,-824.9251302978479,359.0469916263927,-1585.9905033356445,-908.9761945008544,-2070.93099341066,-1866.979812009657,319.02197049951087,-2453.9985518435087,649.0634589723646,-215.99042627003755,-1034.0015649224981,270.0488647836468,2366.2010342654344],\"xaxis\":\"x\",\"y\":[-5.014943674165663,-4.607085749081771,-5.88646631265459,-0.10995918916337476,-9.198061682200985,-6.150265012539859,-4.000748035306736,-2.7725363692085465,-3.7121855770479866,-9.14260317001835,-0.8296393942412641,1.1829238212113624,1.6157734872303002,-11.99678375336223,-0.32668778637964363,1.3376480147451755,2.5046981456944617,-2.6212660274835446,-6.1373135983795,-5.014943674165663,-2.1804664673533396,-4.610351304843005,-2.5019935374052302,4.603503783774836,-2.6437779171843694,-4.642273210465159,6.770358419940667,-6.155173797825748,-3.887286798198126,-3.110473022532191,9.280626881473014,-2.006824950605174,-10.75810448966712,-2.7186001594663285,-7.177096384302046,-9.978339425685666,-9.670627682020285,-6.50039844783176,0.21536661172650054],\"yaxis\":\"y\",\"type\":\"scatter\"}],                        {\"template\":{\"data\":{\"bar\":[{\"error_x\":{\"color\":\"#2a3f5f\"},\"error_y\":{\"color\":\"#2a3f5f\"},\"marker\":{\"line\":{\"color\":\"#E5ECF6\",\"width\":0.5},\"pattern\":{\"fillmode\":\"overlay\",\"size\":10,\"solidity\":0.2}},\"type\":\"bar\"}],\"barpolar\":[{\"marker\":{\"line\":{\"color\":\"#E5ECF6\",\"width\":0.5},\"pattern\":{\"fillmode\":\"overlay\",\"size\":10,\"solidity\":0.2}},\"type\":\"barpolar\"}],\"carpet\":[{\"aaxis\":{\"endlinecolor\":\"#2a3f5f\",\"gridcolor\":\"white\",\"linecolor\":\"white\",\"minorgridcolor\":\"white\",\"startlinecolor\":\"#2a3f5f\"},\"baxis\":{\"endlinecolor\":\"#2a3f5f\",\"gridcolor\":\"white\",\"linecolor\":\"white\",\"minorgridcolor\":\"white\",\"startlinecolor\":\"#2a3f5f\"},\"type\":\"carpet\"}],\"choropleth\":[{\"colorbar\":{\"outlinewidth\":0,\"ticks\":\"\"},\"type\":\"choropleth\"}],\"contour\":[{\"colorbar\":{\"outlinewidth\":0,\"ticks\":\"\"},\"colorscale\":[[0.0,\"#0d0887\"],[0.1111111111111111,\"#46039f\"],[0.2222222222222222,\"#7201a8\"],[0.3333333333333333,\"#9c179e\"],[0.4444444444444444,\"#bd3786\"],[0.5555555555555556,\"#d8576b\"],[0.6666666666666666,\"#ed7953\"],[0.7777777777777778,\"#fb9f3a\"],[0.8888888888888888,\"#fdca26\"],[1.0,\"#f0f921\"]],\"type\":\"contour\"}],\"contourcarpet\":[{\"colorbar\":{\"outlinewidth\":0,\"ticks\":\"\"},\"type\":\"contourcarpet\"}],\"heatmap\":[{\"colorbar\":{\"outlinewidth\":0,\"ticks\":\"\"},\"colorscale\":[[0.0,\"#0d0887\"],[0.1111111111111111,\"#46039f\"],[0.2222222222222222,\"#7201a8\"],[0.3333333333333333,\"#9c179e\"],[0.4444444444444444,\"#bd3786\"],[0.5555555555555556,\"#d8576b\"],[0.6666666666666666,\"#ed7953\"],[0.7777777777777778,\"#fb9f3a\"],[0.8888888888888888,\"#fdca26\"],[1.0,\"#f0f921\"]],\"type\":\"heatmap\"}],\"heatmapgl\":[{\"colorbar\":{\"outlinewidth\":0,\"ticks\":\"\"},\"colorscale\":[[0.0,\"#0d0887\"],[0.1111111111111111,\"#46039f\"],[0.2222222222222222,\"#7201a8\"],[0.3333333333333333,\"#9c179e\"],[0.4444444444444444,\"#bd3786\"],[0.5555555555555556,\"#d8576b\"],[0.6666666666666666,\"#ed7953\"],[0.7777777777777778,\"#fb9f3a\"],[0.8888888888888888,\"#fdca26\"],[1.0,\"#f0f921\"]],\"type\":\"heatmapgl\"}],\"histogram\":[{\"marker\":{\"pattern\":{\"fillmode\":\"overlay\",\"size\":10,\"solidity\":0.2}},\"type\":\"histogram\"}],\"histogram2d\":[{\"colorbar\":{\"outlinewidth\":0,\"ticks\":\"\"},\"colorscale\":[[0.0,\"#0d0887\"],[0.1111111111111111,\"#46039f\"],[0.2222222222222222,\"#7201a8\"],[0.3333333333333333,\"#9c179e\"],[0.4444444444444444,\"#bd3786\"],[0.5555555555555556,\"#d8576b\"],[0.6666666666666666,\"#ed7953\"],[0.7777777777777778,\"#fb9f3a\"],[0.8888888888888888,\"#fdca26\"],[1.0,\"#f0f921\"]],\"type\":\"histogram2d\"}],\"histogram2dcontour\":[{\"colorbar\":{\"outlinewidth\":0,\"ticks\":\"\"},\"colorscale\":[[0.0,\"#0d0887\"],[0.1111111111111111,\"#46039f\"],[0.2222222222222222,\"#7201a8\"],[0.3333333333333333,\"#9c179e\"],[0.4444444444444444,\"#bd3786\"],[0.5555555555555556,\"#d8576b\"],[0.6666666666666666,\"#ed7953\"],[0.7777777777777778,\"#fb9f3a\"],[0.8888888888888888,\"#fdca26\"],[1.0,\"#f0f921\"]],\"type\":\"histogram2dcontour\"}],\"mesh3d\":[{\"colorbar\":{\"outlinewidth\":0,\"ticks\":\"\"},\"type\":\"mesh3d\"}],\"parcoords\":[{\"line\":{\"colorbar\":{\"outlinewidth\":0,\"ticks\":\"\"}},\"type\":\"parcoords\"}],\"pie\":[{\"automargin\":true,\"type\":\"pie\"}],\"scatter\":[{\"marker\":{\"colorbar\":{\"outlinewidth\":0,\"ticks\":\"\"}},\"type\":\"scatter\"}],\"scatter3d\":[{\"line\":{\"colorbar\":{\"outlinewidth\":0,\"ticks\":\"\"}},\"marker\":{\"colorbar\":{\"outlinewidth\":0,\"ticks\":\"\"}},\"type\":\"scatter3d\"}],\"scattercarpet\":[{\"marker\":{\"colorbar\":{\"outlinewidth\":0,\"ticks\":\"\"}},\"type\":\"scattercarpet\"}],\"scattergeo\":[{\"marker\":{\"colorbar\":{\"outlinewidth\":0,\"ticks\":\"\"}},\"type\":\"scattergeo\"}],\"scattergl\":[{\"marker\":{\"colorbar\":{\"outlinewidth\":0,\"ticks\":\"\"}},\"type\":\"scattergl\"}],\"scattermapbox\":[{\"marker\":{\"colorbar\":{\"outlinewidth\":0,\"ticks\":\"\"}},\"type\":\"scattermapbox\"}],\"scatterpolar\":[{\"marker\":{\"colorbar\":{\"outlinewidth\":0,\"ticks\":\"\"}},\"type\":\"scatterpolar\"}],\"scatterpolargl\":[{\"marker\":{\"colorbar\":{\"outlinewidth\":0,\"ticks\":\"\"}},\"type\":\"scatterpolargl\"}],\"scatterternary\":[{\"marker\":{\"colorbar\":{\"outlinewidth\":0,\"ticks\":\"\"}},\"type\":\"scatterternary\"}],\"surface\":[{\"colorbar\":{\"outlinewidth\":0,\"ticks\":\"\"},\"colorscale\":[[0.0,\"#0d0887\"],[0.1111111111111111,\"#46039f\"],[0.2222222222222222,\"#7201a8\"],[0.3333333333333333,\"#9c179e\"],[0.4444444444444444,\"#bd3786\"],[0.5555555555555556,\"#d8576b\"],[0.6666666666666666,\"#ed7953\"],[0.7777777777777778,\"#fb9f3a\"],[0.8888888888888888,\"#fdca26\"],[1.0,\"#f0f921\"]],\"type\":\"surface\"}],\"table\":[{\"cells\":{\"fill\":{\"color\":\"#EBF0F8\"},\"line\":{\"color\":\"white\"}},\"header\":{\"fill\":{\"color\":\"#C8D4E3\"},\"line\":{\"color\":\"white\"}},\"type\":\"table\"}]},\"layout\":{\"annotationdefaults\":{\"arrowcolor\":\"#2a3f5f\",\"arrowhead\":0,\"arrowwidth\":1},\"autotypenumbers\":\"strict\",\"coloraxis\":{\"colorbar\":{\"outlinewidth\":0,\"ticks\":\"\"}},\"colorscale\":{\"diverging\":[[0,\"#8e0152\"],[0.1,\"#c51b7d\"],[0.2,\"#de77ae\"],[0.3,\"#f1b6da\"],[0.4,\"#fde0ef\"],[0.5,\"#f7f7f7\"],[0.6,\"#e6f5d0\"],[0.7,\"#b8e186\"],[0.8,\"#7fbc41\"],[0.9,\"#4d9221\"],[1,\"#276419\"]],\"sequential\":[[0.0,\"#0d0887\"],[0.1111111111111111,\"#46039f\"],[0.2222222222222222,\"#7201a8\"],[0.3333333333333333,\"#9c179e\"],[0.4444444444444444,\"#bd3786\"],[0.5555555555555556,\"#d8576b\"],[0.6666666666666666,\"#ed7953\"],[0.7777777777777778,\"#fb9f3a\"],[0.8888888888888888,\"#fdca26\"],[1.0,\"#f0f921\"]],\"sequentialminus\":[[0.0,\"#0d0887\"],[0.1111111111111111,\"#46039f\"],[0.2222222222222222,\"#7201a8\"],[0.3333333333333333,\"#9c179e\"],[0.4444444444444444,\"#bd3786\"],[0.5555555555555556,\"#d8576b\"],[0.6666666666666666,\"#ed7953\"],[0.7777777777777778,\"#fb9f3a\"],[0.8888888888888888,\"#fdca26\"],[1.0,\"#f0f921\"]]},\"colorway\":[\"#636efa\",\"#EF553B\",\"#00cc96\",\"#ab63fa\",\"#FFA15A\",\"#19d3f3\",\"#FF6692\",\"#B6E880\",\"#FF97FF\",\"#FECB52\"],\"font\":{\"color\":\"#2a3f5f\"},\"geo\":{\"bgcolor\":\"white\",\"lakecolor\":\"white\",\"landcolor\":\"#E5ECF6\",\"showlakes\":true,\"showland\":true,\"subunitcolor\":\"white\"},\"hoverlabel\":{\"align\":\"left\"},\"hovermode\":\"closest\",\"mapbox\":{\"style\":\"light\"},\"paper_bgcolor\":\"white\",\"plot_bgcolor\":\"#E5ECF6\",\"polar\":{\"angularaxis\":{\"gridcolor\":\"white\",\"linecolor\":\"white\",\"ticks\":\"\"},\"bgcolor\":\"#E5ECF6\",\"radialaxis\":{\"gridcolor\":\"white\",\"linecolor\":\"white\",\"ticks\":\"\"}},\"scene\":{\"xaxis\":{\"backgroundcolor\":\"#E5ECF6\",\"gridcolor\":\"white\",\"gridwidth\":2,\"linecolor\":\"white\",\"showbackground\":true,\"ticks\":\"\",\"zerolinecolor\":\"white\"},\"yaxis\":{\"backgroundcolor\":\"#E5ECF6\",\"gridcolor\":\"white\",\"gridwidth\":2,\"linecolor\":\"white\",\"showbackground\":true,\"ticks\":\"\",\"zerolinecolor\":\"white\"},\"zaxis\":{\"backgroundcolor\":\"#E5ECF6\",\"gridcolor\":\"white\",\"gridwidth\":2,\"linecolor\":\"white\",\"showbackground\":true,\"ticks\":\"\",\"zerolinecolor\":\"white\"}},\"shapedefaults\":{\"line\":{\"color\":\"#2a3f5f\"}},\"ternary\":{\"aaxis\":{\"gridcolor\":\"white\",\"linecolor\":\"white\",\"ticks\":\"\"},\"baxis\":{\"gridcolor\":\"white\",\"linecolor\":\"white\",\"ticks\":\"\"},\"bgcolor\":\"#E5ECF6\",\"caxis\":{\"gridcolor\":\"white\",\"linecolor\":\"white\",\"ticks\":\"\"}},\"title\":{\"x\":0.05},\"xaxis\":{\"automargin\":true,\"gridcolor\":\"white\",\"linecolor\":\"white\",\"ticks\":\"\",\"title\":{\"standoff\":15},\"zerolinecolor\":\"white\",\"zerolinewidth\":2},\"yaxis\":{\"automargin\":true,\"gridcolor\":\"white\",\"linecolor\":\"white\",\"ticks\":\"\",\"title\":{\"standoff\":15},\"zerolinecolor\":\"white\",\"zerolinewidth\":2}}},\"xaxis\":{\"anchor\":\"y\",\"domain\":[0.0,1.0],\"title\":{\"text\":\"PC 1\"}},\"yaxis\":{\"anchor\":\"x\",\"domain\":[0.0,1.0],\"title\":{\"text\":\"PC 2\"}},\"legend\":{\"title\":{\"text\":\"color\"},\"tracegroupgap\":0},\"margin\":{\"t\":60}},                        {\"responsive\": true}                    ).then(function(){\n",
              "                            \n",
              "var gd = document.getElementById('b6c8b28c-0f0a-4506-84bb-b94cd93629e7');\n",
              "var x = new MutationObserver(function (mutations, observer) {{\n",
              "        var display = window.getComputedStyle(gd).display;\n",
              "        if (!display || display === 'none') {{\n",
              "            console.log([gd, 'removed!']);\n",
              "            Plotly.purge(gd);\n",
              "            observer.disconnect();\n",
              "        }}\n",
              "}});\n",
              "\n",
              "// Listen for the removal of the full notebook cells\n",
              "var notebookContainer = gd.closest('#notebook-container');\n",
              "if (notebookContainer) {{\n",
              "    x.observe(notebookContainer, {childList: true});\n",
              "}}\n",
              "\n",
              "// Listen for the clearing of the current output cell\n",
              "var outputEl = gd.closest('.output');\n",
              "if (outputEl) {{\n",
              "    x.observe(outputEl, {childList: true});\n",
              "}}\n",
              "\n",
              "                        })                };                            </script>        </div>\n",
              "</body>\n",
              "</html>"
            ]
          },
          "metadata": {},
          "output_type": "display_data"
        }
      ],
      "source": [
        "import plotly.express as px\n",
        "from sklearn.decomposition import PCA\n",
        "\n",
        "X= sample_data.iloc[: , :-1]\n",
        "y= sample_data.iloc[:, -1]\n",
        "\n",
        "pca = PCA(n_components=2)\n",
        "components = pca.fit_transform(X)\n",
        "\n",
        "fig = px.scatter(components, x=0, y=1, color=sample_data[\"SCL_Label\"],\n",
        "                 labels={'0': 'PC 1', '1': 'PC 2'})\n",
        "fig.show()"
      ]
    },
    {
      "cell_type": "code",
      "execution_count": null,
      "metadata": {
        "id": "Ei7cSQ8j8_iF"
      },
      "outputs": [],
      "source": [
        "df3['SOM'] = df['Headaches (SOM)'].append((df['Faintness or dizziness (SOM)'],\n",
        "                                         df['Pains in heart or chest (SOM)'],\n",
        "                                         df['Pains in lower back (SOM)'],\n",
        "                                         df['Nausea or upset stomach (SOM)'],\n",
        "                                         df['Soreness of your muscles (SOM)'],\n",
        "                                         df['Trouble getting your breath (SOM)'],\n",
        "                                         df['Hot or cold spells (SOM)'],\n",
        "                                         df['Numbness or tingling in parts of your body (SOM)'],\n",
        "                                         df['A lump in your throat (SOM)'],\n",
        "                                         df['Feeling weak in parts of your body (SOM)'],\n",
        "                                         df['Heavy feelings in your arms or legs (SOM)']), ignore_index=True)"
      ]
    },
    {
      "cell_type": "code",
      "execution_count": null,
      "metadata": {
        "id": "e_UFkC4p-tfI"
      },
      "outputs": [],
      "source": [
        "df3['ANX'] = df['Nervousness or shakiness inside (ANX)'].append((df['Trembling (ANX)'],\n",
        "                                         df['Suddenly scared for no reason (ANX)'],\n",
        "                                         df['Feeling fearful (ANX)'],\n",
        "                                         df['Heart pounding or racing (ANX)'],\n",
        "                                         df['Feeling tense or keyed up (ANX)'],\n",
        "                                         df['Spells of terror or panic (ANX)'],\n",
        "                                         df['Feeling so restless you couldn’t sit still (ANX)'],\n",
        "                                         df['Feeling that familiar things are strange or unreal (ANX)'],\n",
        "                                         df['Feeling pushed to get things done (ANX)']), ignore_index=True)\n",
        "                                         #df['Feeling weak in parts of your body (SOM)'],\n",
        "                                         #df['Heavy feelings in your arms or legs (SOM)']), ignore_index=True)"
      ]
    },
    {
      "cell_type": "code",
      "execution_count": null,
      "metadata": {
        "id": "wY1P1rqOBfp2"
      },
      "outputs": [],
      "source": [
        "df3['OC'] = df['Unwanted thoughts or ideas that won’t leave your head (OC)'].append((df['Trouble remembering things (OC)'],\n",
        "                                         df['Worried about sloppiness or carelessness (OC)'],\n",
        "                                         df['Feeling blocked in getting things done (OC)'],\n",
        "                                         df['Having to do things very slowly (OC)'],\n",
        "                                         df['Difficulty making decisions (OC)'],\n",
        "                                         df['Your mind going blank (OC)'],\n",
        "                                         df['Trouble concentrating (OC)'],\n",
        "                                         df['Having to repeat the same actions such as touching, counting, washing (OC)']), ignore_index=True)"
      ]
    },
    {
      "cell_type": "code",
      "execution_count": null,
      "metadata": {
        "id": "qB-ikVrLCDIj"
      },
      "outputs": [],
      "source": [
        "df3['DEP'] = df['Loss of sexual interest or pleasure (DEP)'].append((df['Feeling low in energy or slowed down (DEP)'],\n",
        "                                         df['Thoughts of ending life (DEP)'],\n",
        "                                         df['Crying easily (DEP)'],\n",
        "                                         df['Feeling of being trapped or caught (DEP)'],\n",
        "                                         df['Blaming yourself for things (DEP)'],\n",
        "                                         df['Feeling lonely (DEP)'],\n",
        "                                         df['Feeling blue (DEP)'],\n",
        "                                         df['Worrying too much about things (DEP)'],\n",
        "                                         df['Feeling no interest in things (DEP)'],\n",
        "                                         df['Feeling hopeless about the future (DEP)'],\n",
        "                                         df['Thoughts of death or dying (DEP)'],\n",
        "                                         df['Feeling everything is an effort (DEP)'],\n",
        "                                         df['Feeling of worthlessness (DEP)']), ignore_index=True)"
      ]
    },
    {
      "cell_type": "code",
      "execution_count": null,
      "metadata": {
        "id": "JcYtnZZPCCmq"
      },
      "outputs": [],
      "source": [
        "df3['IS'] = df['Feeling critical of others (IS)'].append((df['Feeling shy or uneasy with the opposite sex (IS)'],\n",
        "                                         df['Your feelings being easily hurt (IS)'],\n",
        "                                         df['Feeling others do not understand you or are unsympathetic (IS)'],\n",
        "                                         df['Feeling that people are unfriendly (IS)'],\n",
        "                                         df['Feeling inferior to others (IS)'],\n",
        "                                         df['Feeling uneasy when people are watching or talking about you (IS)'],\n",
        "                                         df['Feeling very self-conscious with others (IS)'],\n",
        "                                         df['Feeling uncomfortable about eating or drinking in public (IS)']), ignore_index=True)"
      ]
    },
    {
      "cell_type": "code",
      "execution_count": null,
      "metadata": {
        "id": "CwLA2qx9CChe"
      },
      "outputs": [],
      "source": [
        "df3['PSY'] = df['The idea that someone else can control your thoughts (PSY)'].append((df['Hearing voices that other people do not hear (PSY)'],\n",
        "                                         df['Other people being aware of your private thoughts (PSY)'],\n",
        "                                         df['Having thoughts that are not your own (PSY)'],\n",
        "                                         df['Feeling lonely even when you are with people (PSY)'],\n",
        "                                         df['Having thoughts about sex that bother you a lot (PSY)'],\n",
        "                                         df['The idea that you should be punished for your sins (PSY)'],\n",
        "                                         df['The idea that something serious is wrong with your body (PSY)'],\n",
        "                                         df['Never feeling close to another personal (PSY)'],\n",
        "                                         df['The idea that something is wrong with your mind (PSY)']), ignore_index=True)"
      ]
    },
    {
      "cell_type": "code",
      "execution_count": null,
      "metadata": {
        "id": "U5ZUMjvOCCcS"
      },
      "outputs": [],
      "source": [
        "df3['PI'] = df['Feeling others are to blame for most of your troubles (PI)'].append((df['Feeling that most people cannot be trusted (PI)'],\n",
        "                                         df['Feeling that you are watched or talked about by others (PI)'],\n",
        "                                         df['Having ideas or beliefs that others do not share (PI)'],\n",
        "                                         df['Others not giving you proper credit for your achievements (PI)'],\n",
        "                                         df['Feeling that people will take advantage of you if you let them (PI)']), ignore_index=True)"
      ]
    },
    {
      "cell_type": "code",
      "execution_count": null,
      "metadata": {
        "id": "UnujOhvvCCWw"
      },
      "outputs": [],
      "source": [
        "df3['ANG_HOS'] = df['Feeling easily annoyed or irritated (ANG-HOS)'].append((df['Temper outbursts that you could not control (ANG-HOS)'],\n",
        "                                         df['Having urges to beat, injure or harm someone (ANG-HOS)'],\n",
        "                                         df['Having urges to break or smash things (ANG-HOS)'],\n",
        "                                         df['Getting into frequent arguments (ANG-HOS)'],\n",
        "                                         df['Shouting or throwing things (ANG-HOS)']), ignore_index=True)"
      ]
    },
    {
      "cell_type": "code",
      "execution_count": null,
      "metadata": {
        "id": "SYavcTirCCRV"
      },
      "outputs": [],
      "source": [
        "df3['PHOB'] = df['Feeling afraid in open spaces or on the street (PHOB)'].append((df['Feeling afraid to go out of your house alone (PHOB)'],\n",
        "                                         df['Feeling afraid to travel on buses, subways or trains (PHOB)'],\n",
        "                                         df['Having to avoid certain things, places or activities (PHOB)'],\n",
        "                                         df['Feeling uneasy in crowds such as shopping or at a movie (PHOB)'],\n",
        "                                         df['Feeling nervous when you are left alone (PHOB)'],\n",
        "                                         df['Feeling afraid you will faint in public (PHOB)']), ignore_index=True)"
      ]
    },
    {
      "cell_type": "code",
      "execution_count": null,
      "metadata": {
        "id": "Bcx2unkz1K2s"
      },
      "outputs": [],
      "source": [
        "df3['SUM'] = df['SCL_Sum']"
      ]
    },
    {
      "cell_type": "code",
      "execution_count": null,
      "metadata": {
        "id": "01nmMcZO6kM2"
      },
      "outputs": [],
      "source": [
        "df3['Label'] = df['SCL_Label']"
      ]
    },
    {
      "cell_type": "code",
      "execution_count": null,
      "metadata": {
        "id": "z8aAkvo33MaD"
      },
      "outputs": [],
      "source": [
        "df3 = df3.drop(['SUM'], axis = 1)"
      ]
    },
    {
      "cell_type": "code",
      "execution_count": null,
      "metadata": {
        "colab": {
          "base_uri": "https://localhost:8080/",
          "height": 237
        },
        "id": "qDPNN8z-y4no",
        "outputId": "f0c41310-df5d-4388-e053-512ee5730942"
      },
      "outputs": [
        {
          "data": {
            "text/html": [
              "\n",
              "  <div id=\"df-0e25f5ee-793a-4a61-87d1-7fb8ede858a9\">\n",
              "    <div class=\"colab-df-container\">\n",
              "      <div>\n",
              "<style scoped>\n",
              "    .dataframe tbody tr th:only-of-type {\n",
              "        vertical-align: middle;\n",
              "    }\n",
              "\n",
              "    .dataframe tbody tr th {\n",
              "        vertical-align: top;\n",
              "    }\n",
              "\n",
              "    .dataframe thead th {\n",
              "        text-align: right;\n",
              "    }\n",
              "</style>\n",
              "<table border=\"1\" class=\"dataframe\">\n",
              "  <thead>\n",
              "    <tr style=\"text-align: right;\">\n",
              "      <th></th>\n",
              "      <th>SOM</th>\n",
              "      <th>ANX</th>\n",
              "      <th>OC</th>\n",
              "      <th>DEP</th>\n",
              "      <th>IS</th>\n",
              "      <th>PSY</th>\n",
              "      <th>PI</th>\n",
              "      <th>ANG_HOS</th>\n",
              "      <th>PHOB</th>\n",
              "    </tr>\n",
              "    <tr>\n",
              "      <th>Number</th>\n",
              "      <th></th>\n",
              "      <th></th>\n",
              "      <th></th>\n",
              "      <th></th>\n",
              "      <th></th>\n",
              "      <th></th>\n",
              "      <th></th>\n",
              "      <th></th>\n",
              "      <th></th>\n",
              "    </tr>\n",
              "  </thead>\n",
              "  <tbody>\n",
              "    <tr>\n",
              "      <th>5104</th>\n",
              "      <td>1.0</td>\n",
              "      <td>1.0</td>\n",
              "      <td>1.0</td>\n",
              "      <td>1.0</td>\n",
              "      <td>1.0</td>\n",
              "      <td>1.0</td>\n",
              "      <td>1.0</td>\n",
              "      <td>1.0</td>\n",
              "      <td>1.0</td>\n",
              "    </tr>\n",
              "    <tr>\n",
              "      <th>5105</th>\n",
              "      <td>2.0</td>\n",
              "      <td>1.0</td>\n",
              "      <td>1.0</td>\n",
              "      <td>1.0</td>\n",
              "      <td>1.0</td>\n",
              "      <td>1.0</td>\n",
              "      <td>1.0</td>\n",
              "      <td>1.0</td>\n",
              "      <td>1.0</td>\n",
              "    </tr>\n",
              "    <tr>\n",
              "      <th>5106</th>\n",
              "      <td>1.0</td>\n",
              "      <td>1.0</td>\n",
              "      <td>1.0</td>\n",
              "      <td>1.0</td>\n",
              "      <td>1.0</td>\n",
              "      <td>1.0</td>\n",
              "      <td>1.0</td>\n",
              "      <td>1.0</td>\n",
              "      <td>1.0</td>\n",
              "    </tr>\n",
              "    <tr>\n",
              "      <th>5107</th>\n",
              "      <td>1.0</td>\n",
              "      <td>1.0</td>\n",
              "      <td>1.0</td>\n",
              "      <td>1.0</td>\n",
              "      <td>1.0</td>\n",
              "      <td>1.0</td>\n",
              "      <td>1.0</td>\n",
              "      <td>1.0</td>\n",
              "      <td>1.0</td>\n",
              "    </tr>\n",
              "    <tr>\n",
              "      <th>5108</th>\n",
              "      <td>1.0</td>\n",
              "      <td>1.0</td>\n",
              "      <td>1.0</td>\n",
              "      <td>1.0</td>\n",
              "      <td>1.0</td>\n",
              "      <td>1.0</td>\n",
              "      <td>1.0</td>\n",
              "      <td>1.0</td>\n",
              "      <td>1.0</td>\n",
              "    </tr>\n",
              "  </tbody>\n",
              "</table>\n",
              "</div>\n",
              "      <button class=\"colab-df-convert\" onclick=\"convertToInteractive('df-0e25f5ee-793a-4a61-87d1-7fb8ede858a9')\"\n",
              "              title=\"Convert this dataframe to an interactive table.\"\n",
              "              style=\"display:none;\">\n",
              "        \n",
              "  <svg xmlns=\"http://www.w3.org/2000/svg\" height=\"24px\"viewBox=\"0 0 24 24\"\n",
              "       width=\"24px\">\n",
              "    <path d=\"M0 0h24v24H0V0z\" fill=\"none\"/>\n",
              "    <path d=\"M18.56 5.44l.94 2.06.94-2.06 2.06-.94-2.06-.94-.94-2.06-.94 2.06-2.06.94zm-11 1L8.5 8.5l.94-2.06 2.06-.94-2.06-.94L8.5 2.5l-.94 2.06-2.06.94zm10 10l.94 2.06.94-2.06 2.06-.94-2.06-.94-.94-2.06-.94 2.06-2.06.94z\"/><path d=\"M17.41 7.96l-1.37-1.37c-.4-.4-.92-.59-1.43-.59-.52 0-1.04.2-1.43.59L10.3 9.45l-7.72 7.72c-.78.78-.78 2.05 0 2.83L4 21.41c.39.39.9.59 1.41.59.51 0 1.02-.2 1.41-.59l7.78-7.78 2.81-2.81c.8-.78.8-2.07 0-2.86zM5.41 20L4 18.59l7.72-7.72 1.47 1.35L5.41 20z\"/>\n",
              "  </svg>\n",
              "      </button>\n",
              "      \n",
              "  <style>\n",
              "    .colab-df-container {\n",
              "      display:flex;\n",
              "      flex-wrap:wrap;\n",
              "      gap: 12px;\n",
              "    }\n",
              "\n",
              "    .colab-df-convert {\n",
              "      background-color: #E8F0FE;\n",
              "      border: none;\n",
              "      border-radius: 50%;\n",
              "      cursor: pointer;\n",
              "      display: none;\n",
              "      fill: #1967D2;\n",
              "      height: 32px;\n",
              "      padding: 0 0 0 0;\n",
              "      width: 32px;\n",
              "    }\n",
              "\n",
              "    .colab-df-convert:hover {\n",
              "      background-color: #E2EBFA;\n",
              "      box-shadow: 0px 1px 2px rgba(60, 64, 67, 0.3), 0px 1px 3px 1px rgba(60, 64, 67, 0.15);\n",
              "      fill: #174EA6;\n",
              "    }\n",
              "\n",
              "    [theme=dark] .colab-df-convert {\n",
              "      background-color: #3B4455;\n",
              "      fill: #D2E3FC;\n",
              "    }\n",
              "\n",
              "    [theme=dark] .colab-df-convert:hover {\n",
              "      background-color: #434B5C;\n",
              "      box-shadow: 0px 1px 3px 1px rgba(0, 0, 0, 0.15);\n",
              "      filter: drop-shadow(0px 1px 2px rgba(0, 0, 0, 0.3));\n",
              "      fill: #FFFFFF;\n",
              "    }\n",
              "  </style>\n",
              "\n",
              "      <script>\n",
              "        const buttonEl =\n",
              "          document.querySelector('#df-0e25f5ee-793a-4a61-87d1-7fb8ede858a9 button.colab-df-convert');\n",
              "        buttonEl.style.display =\n",
              "          google.colab.kernel.accessAllowed ? 'block' : 'none';\n",
              "\n",
              "        async function convertToInteractive(key) {\n",
              "          const element = document.querySelector('#df-0e25f5ee-793a-4a61-87d1-7fb8ede858a9');\n",
              "          const dataTable =\n",
              "            await google.colab.kernel.invokeFunction('convertToInteractive',\n",
              "                                                     [key], {});\n",
              "          if (!dataTable) return;\n",
              "\n",
              "          const docLinkHtml = 'Like what you see? Visit the ' +\n",
              "            '<a target=\"_blank\" href=https://colab.research.google.com/notebooks/data_table.ipynb>data table notebook</a>'\n",
              "            + ' to learn more about interactive tables.';\n",
              "          element.innerHTML = '';\n",
              "          dataTable['output_type'] = 'display_data';\n",
              "          await google.colab.output.renderOutput(dataTable, element);\n",
              "          const docLink = document.createElement('div');\n",
              "          docLink.innerHTML = docLinkHtml;\n",
              "          element.appendChild(docLink);\n",
              "        }\n",
              "      </script>\n",
              "    </div>\n",
              "  </div>\n",
              "  "
            ],
            "text/plain": [
              "        SOM  ANX   OC  DEP   IS  PSY   PI  ANG_HOS  PHOB\n",
              "Number                                                  \n",
              "5104    1.0  1.0  1.0  1.0  1.0  1.0  1.0      1.0   1.0\n",
              "5105    2.0  1.0  1.0  1.0  1.0  1.0  1.0      1.0   1.0\n",
              "5106    1.0  1.0  1.0  1.0  1.0  1.0  1.0      1.0   1.0\n",
              "5107    1.0  1.0  1.0  1.0  1.0  1.0  1.0      1.0   1.0\n",
              "5108    1.0  1.0  1.0  1.0  1.0  1.0  1.0      1.0   1.0"
            ]
          },
          "execution_count": 154,
          "metadata": {},
          "output_type": "execute_result"
        }
      ],
      "source": [
        "df4.tail()"
      ]
    },
    {
      "cell_type": "markdown",
      "source": [
        "**Exploring different psychological issues w.r.t two classes**"
      ],
      "metadata": {
        "id": "QGLc5lpSJwtp"
      }
    },
    {
      "cell_type": "code",
      "execution_count": null,
      "metadata": {
        "id": "KuNBNE7-FPI3"
      },
      "outputs": [],
      "source": [
        "h_df3 = df3.loc[df3['Label'] == 'High']"
      ]
    },
    {
      "cell_type": "code",
      "execution_count": null,
      "metadata": {
        "colab": {
          "base_uri": "https://localhost:8080/",
          "height": 347
        },
        "id": "lWPKkqPgFtnn",
        "outputId": "d6acb803-c399-4c23-f08c-14460edb80b6"
      },
      "outputs": [
        {
          "data": {
            "image/png": "[encoded data removed]",
            "text/plain": [
              "<Figure size 576x396 with 1 Axes>"
            ]
          },
          "metadata": {},
          "output_type": "display_data"
        }
      ],
      "source": [
        "ax = sns.boxplot(data=h_df3)"
      ]
    },
    {
      "cell_type": "code",
      "execution_count": null,
      "metadata": {
        "id": "anqIUiyKFxj1"
      },
      "outputs": [],
      "source": [
        "l_df3 = df3.loc[df3['Label'] == 'Low']"
      ]
    },
    {
      "cell_type": "code",
      "execution_count": null,
      "metadata": {
        "colab": {
          "base_uri": "https://localhost:8080/",
          "height": 347
        },
        "id": "0Ap_kh3VF4YE",
        "outputId": "7ba823bc-65db-49f9-ad3f-50c516d919a8"
      },
      "outputs": [
        {
          "data": {
            "image/png": "[encoded data removed]",
            "text/plain": [
              "<Figure size 576x396 with 1 Axes>"
            ]
          },
          "metadata": {},
          "output_type": "display_data"
        }
      ],
      "source": [
        "ax = sns.boxplot(data=l_df3)"
      ]
    },
    {
      "cell_type": "markdown",
      "source": [
        "**Checking for feature independence using Chi-Square method before applying explainable AI**"
      ],
      "metadata": {
        "id": "iryz5DG_LpDH"
      }
    },
    {
      "cell_type": "code",
      "execution_count": null,
      "metadata": {
        "id": "IBkEbaKDzJ_3"
      },
      "outputs": [],
      "source": [
        "# train test spliy\n",
        "X= df.iloc[: , :-1]\n",
        "y= df.iloc[:, -1]\n",
        "\n",
        "train_x,test_x,train_y,test_y = train_test_split(X,y,test_size=0.3, random_state=42)"
      ]
    },
    {
      "cell_type": "code",
      "execution_count": null,
      "metadata": {
        "id": "HWo4BZpkBmIV"
      },
      "outputs": [],
      "source": [
        "df.to_csv('chi_sq.csv')"
      ]
    },
    {
      "cell_type": "code",
      "execution_count": null,
      "metadata": {
        "id": "0ZWHFlgNCWGI"
      },
      "outputs": [],
      "source": [
        "chi_scores = chi2(X,y)"
      ]
    },
    {
      "cell_type": "code",
      "execution_count": null,
      "metadata": {
        "id": "6kHtkl7XCfHm"
      },
      "outputs": [],
      "source": [
        "p_values = pd.Series(chi_scores[1],index = X.columns)\n",
        "p_values.sort_values(ascending = False , inplace = True)"
      ]
    },
    {
      "cell_type": "code",
      "execution_count": null,
      "metadata": {
        "colab": {
          "base_uri": "https://localhost:8080/",
          "height": 606
        },
        "id": "IUOWtjxKCe59",
        "outputId": "9873a58c-0078-4ba2-f04a-08fb6203bed9"
      },
      "outputs": [
        {
          "data": {
            "text/plain": [
              "<matplotlib.axes._subplots.AxesSubplot at 0x7f9bb2fad650>"
            ]
          },
          "execution_count": 106,
          "metadata": {},
          "output_type": "execute_result"
        },
        {
          "data": {
            "image/png": "[encoded data removed]",
            "text/plain": [
              "<Figure size 576x396 with 1 Axes>"
            ]
          },
          "metadata": {},
          "output_type": "display_data"
        }
      ],
      "source": [
        "p_values.plot.bar()"
      ]
    },
    {
      "cell_type": "code",
      "execution_count": null,
      "metadata": {
        "id": "7GmZcWSCPYFy"
      },
      "outputs": [],
      "source": []
    },
    {
      "cell_type": "markdown",
      "metadata": {
        "id": "d9CIgmR7rmfs"
      },
      "source": [
        "# Model Building"
      ]
    },
    {
      "cell_type": "code",
      "execution_count": null,
      "metadata": {
        "id": "7y0Y68TdsI4W"
      },
      "outputs": [],
      "source": [
        "# train test spliy\n",
        "X= data.iloc[: , :-1]\n",
        "y= data.iloc[:, -1]\n",
        "\n",
        "train_x,test_x,train_y,test_y = train_test_split(X,y,test_size=0.3, random_state=42)"
      ]
    },
    {
      "cell_type": "code",
      "execution_count": null,
      "metadata": {
        "id": "CHr7vCW_sI1Q"
      },
      "outputs": [],
      "source": [
        "x_tensor =  torch.from_numpy(train_x.values).float()\n",
        "y_tensor =  torch.from_numpy(train_y.values.ravel()).float()\n",
        "xtest_tensor =  torch.from_numpy(test_x.values).float()\n",
        "ytest_tensor =  torch.from_numpy(test_y.values.ravel()).float()"
      ]
    },
    {
      "cell_type": "code",
      "execution_count": null,
      "metadata": {
        "id": "HYREzN9LsIxv"
      },
      "outputs": [],
      "source": [
        "from torch.utils.data import TensorDataset\n",
        "from torch.utils.data import DataLoader\n",
        "\n",
        "bs = 64\n",
        "# combine train test in tensor dataset\n",
        "y_tensor = y_tensor.unsqueeze(1)\n",
        "train_ds = TensorDataset(x_tensor, y_tensor)\n",
        "\n",
        "train_dl = DataLoader(train_ds, batch_size=bs)\n",
        "\n",
        "\n",
        "# for validation\n",
        "ytest_tensor = ytest_tensor.unsqueeze(1)\n",
        "test_ds = TensorDataset(xtest_tensor, ytest_tensor)\n",
        "test_loader = DataLoader(test_ds, batch_size=bs)"
      ]
    },
    {
      "cell_type": "code",
      "execution_count": null,
      "metadata": {
        "id": "jgTYvL43sIuu"
      },
      "outputs": [],
      "source": [
        "n_input_dim = train_x.shape[1]\n",
        "\n",
        "\n",
        "n_hidden1 = 300  # hidden layers\n",
        "n_hidden2 = 100\n",
        "n_output =  1\n",
        "\n",
        "\n",
        "class psche_model(nn.Module):\n",
        "    def __init__(self):\n",
        "        super(psche_model, self).__init__()\n",
        "        self.layer_1 = nn.Linear(n_input_dim, n_hidden1)\n",
        "        self.layer_2 = nn.Linear(n_hidden1, n_hidden2)\n",
        "        self.layer_out = nn.Linear(n_hidden2, n_output)\n",
        "\n",
        "\n",
        "        self.relu = nn.ReLU()\n",
        "        self.sigmoid =  nn.Sigmoid()\n",
        "        self.dropout = nn.Dropout(p=0.5)\n",
        "        self.batchnorm1 = nn.BatchNorm1d(n_hidden1) # applying bacth normalize\n",
        "        self.batchnorm2 = nn.BatchNorm1d(n_hidden2)\n",
        "\n",
        "\n",
        "    def forward(self, inputs):\n",
        "        x = self.relu(self.layer_1(inputs))\n",
        "        x = self.batchnorm1(x)\n",
        "        x = self.relu(self.layer_2(x))\n",
        "        x = self.batchnorm2(x)\n",
        "        x = self.dropout(x)\n",
        "        x = self.sigmoid(self.layer_out(x))\n",
        "\n",
        "        return x\n",
        "\n",
        "\n",
        "model = psche_model()"
      ]
    },
    {
      "cell_type": "code",
      "execution_count": null,
      "metadata": {
        "id": "8eOlMgzTsIrg"
      },
      "outputs": [],
      "source": [
        "loss_func = nn.BCELoss()\n",
        "learning_rate = 0.001\n",
        "optimizer = torch.optim.Adam(model.parameters(), lr=learning_rate)\n",
        "epochs = 10"
      ]
    },
    {
      "cell_type": "code",
      "execution_count": null,
      "metadata": {
        "colab": {
          "base_uri": "https://localhost:8080/"
        },
        "id": "aLY8cv92sImy",
        "outputId": "0101e18c-b38a-4997-dbfe-4af31f3831c4"
      },
      "outputs": [
        {
          "name": "stdout",
          "output_type": "stream",
          "text": [
            "\n",
            "FOLD No. 0\n",
            "---------------\n",
            "\n",
            "\n",
            "\n",
            "-----epoch no. 1------\n",
            "\n",
            "Loss in training: 0.3416620194911957\n",
            "\n",
            "Loss in validation 1.2692115306854248\n",
            "\n",
            "-----epoch no. 2------\n",
            "\n",
            "Loss in training: 0.500917375087738\n",
            "\n",
            "Loss in validation 0.09604968875646591\n",
            "\n",
            "-----epoch no. 3------\n",
            "\n",
            "Loss in training: 0.14237362146377563\n",
            "\n",
            "Loss in validation 0.06431914120912552\n",
            "\n",
            "-----epoch no. 4------\n",
            "\n",
            "Loss in training: 0.09638481587171555\n",
            "\n",
            "Loss in validation 10.03332233428955\n",
            "\n",
            "-----epoch no. 5------\n",
            "\n",
            "Loss in training: 0.02597135491669178\n",
            "\n",
            "Loss in validation 0.6132341027259827\n",
            "\n",
            "-----epoch no. 6------\n",
            "\n",
            "Loss in training: 0.044865984469652176\n",
            "\n",
            "Loss in validation 0.006566162686794996\n",
            "\n",
            "-----epoch no. 7------\n",
            "\n",
            "Loss in training: 0.03013470582664013\n",
            "\n",
            "Loss in validation 0.03592396900057793\n",
            "\n",
            "-----epoch no. 8------\n",
            "\n",
            "Loss in training: 0.734574556350708\n",
            "\n",
            "Loss in validation 0.030430607497692108\n",
            "\n",
            "-----epoch no. 9------\n",
            "\n",
            "Loss in training: 0.03301025927066803\n",
            "\n",
            "Loss in validation 0.08687493205070496\n",
            "\n",
            "-----epoch no. 10------\n",
            "\n",
            "Loss in training: 0.012883746065199375\n",
            "\n",
            "Loss in validation 0.01918882317841053\n",
            "\n",
            "FOLD No. 1\n",
            "---------------\n",
            "\n",
            "\n",
            "\n",
            "-----epoch no. 1------\n",
            "\n",
            "Loss in training: 0.016186891123652458\n",
            "\n",
            "Loss in validation 0.021248023957014084\n",
            "\n",
            "-----epoch no. 2------\n",
            "\n",
            "Loss in training: 0.05293329060077667\n",
            "\n",
            "Loss in validation 0.011521648615598679\n",
            "\n",
            "-----epoch no. 3------\n",
            "\n",
            "Loss in training: 0.008184089325368404\n",
            "\n",
            "Loss in validation 0.43873488903045654\n",
            "\n",
            "-----epoch no. 4------\n",
            "\n",
            "Loss in training: 0.014560428448021412\n",
            "\n",
            "Loss in validation 0.2914472818374634\n",
            "\n",
            "-----epoch no. 5------\n",
            "\n",
            "Loss in training: 0.02011893503367901\n",
            "\n",
            "Loss in validation 0.015001719817519188\n",
            "\n",
            "-----epoch no. 6------\n",
            "\n",
            "Loss in training: 0.017700791358947754\n",
            "\n",
            "Loss in validation 0.020339248701930046\n",
            "\n",
            "-----epoch no. 7------\n",
            "\n",
            "Loss in training: 0.027491098269820213\n",
            "\n",
            "Loss in validation 0.005820238962769508\n",
            "\n",
            "-----epoch no. 8------\n",
            "\n",
            "Loss in training: 0.04056033864617348\n",
            "\n",
            "Loss in validation 0.13215242326259613\n",
            "\n",
            "-----epoch no. 9------\n",
            "\n",
            "Loss in training: 0.014924379996955395\n",
            "\n",
            "Loss in validation 0.014806500636041164\n",
            "\n",
            "-----epoch no. 10------\n",
            "\n",
            "Loss in training: 0.009951422922313213\n",
            "\n",
            "Loss in validation 0.029239589348435402\n",
            "\n",
            "FOLD No. 2\n",
            "---------------\n",
            "\n",
            "\n",
            "\n",
            "-----epoch no. 1------\n",
            "\n",
            "Loss in training: 0.005732789169996977\n",
            "\n",
            "Loss in validation 0.6790356040000916\n",
            "\n",
            "-----epoch no. 2------\n",
            "\n",
            "Loss in training: 0.013492662459611893\n",
            "\n",
            "Loss in validation 0.0016753898235037923\n",
            "\n",
            "-----epoch no. 3------\n",
            "\n",
            "Loss in training: 0.004828928038477898\n",
            "\n",
            "Loss in validation 0.015757322311401367\n",
            "\n",
            "-----epoch no. 4------\n",
            "\n",
            "Loss in training: 0.008129742927849293\n",
            "\n",
            "Loss in validation 1.258668303489685\n",
            "\n",
            "-----epoch no. 5------\n",
            "\n",
            "Loss in training: 0.0039482321590185165\n",
            "\n",
            "Loss in validation 0.0032884380780160427\n",
            "\n",
            "-----epoch no. 6------\n",
            "\n",
            "Loss in training: 0.10309295356273651\n",
            "\n",
            "Loss in validation 0.0012462460435926914\n",
            "\n",
            "-----epoch no. 7------\n",
            "\n",
            "Loss in training: 0.02369377203285694\n",
            "\n",
            "Loss in validation 0.0025952926371246576\n",
            "\n",
            "-----epoch no. 8------\n",
            "\n",
            "Loss in training: 0.024169355630874634\n",
            "\n",
            "Loss in validation 0.004447887651622295\n",
            "\n",
            "-----epoch no. 9------\n",
            "\n",
            "Loss in training: 0.00852109119296074\n",
            "\n",
            "Loss in validation 0.24398435652256012\n",
            "\n",
            "-----epoch no. 10------\n",
            "\n",
            "Loss in training: 0.1316290646791458\n",
            "\n",
            "Loss in validation 0.9683173894882202\n",
            "\n",
            "FOLD No. 3\n",
            "---------------\n",
            "\n",
            "\n",
            "\n",
            "-----epoch no. 1------\n",
            "\n",
            "Loss in training: 0.006338701117783785\n",
            "\n",
            "Loss in validation 0.001964157447218895\n",
            "\n",
            "-----epoch no. 2------\n",
            "\n",
            "Loss in training: 0.02734503708779812\n",
            "\n",
            "Loss in validation 0.0012941411696374416\n",
            "\n",
            "-----epoch no. 3------\n",
            "\n",
            "Loss in training: 0.05651834234595299\n",
            "\n",
            "Loss in validation 0.0011930119944736362\n",
            "\n",
            "-----epoch no. 4------\n",
            "\n",
            "Loss in training: 2.281259775161743\n",
            "\n",
            "Loss in validation 0.01791110448539257\n",
            "\n",
            "-----epoch no. 5------\n",
            "\n",
            "Loss in training: 0.010522373951971531\n",
            "\n",
            "Loss in validation 0.04269057884812355\n",
            "\n",
            "-----epoch no. 6------\n",
            "\n",
            "Loss in training: 0.048192109912633896\n",
            "\n",
            "Loss in validation 0.0094457333907485\n",
            "\n",
            "-----epoch no. 7------\n",
            "\n",
            "Loss in training: 0.048239823430776596\n",
            "\n",
            "Loss in validation 0.2834409475326538\n",
            "\n",
            "-----epoch no. 8------\n",
            "\n",
            "Loss in training: 0.023768961429595947\n",
            "\n",
            "Loss in validation 0.0046502770856022835\n",
            "\n",
            "-----epoch no. 9------\n",
            "\n",
            "Loss in training: 0.00473008630797267\n",
            "\n",
            "Loss in validation 0.0006788292666897178\n",
            "\n",
            "-----epoch no. 10------\n",
            "\n",
            "Loss in training: 0.00174096564296633\n",
            "\n",
            "Loss in validation 0.004169049207121134\n",
            "\n",
            "FOLD No. 4\n",
            "---------------\n",
            "\n",
            "\n",
            "\n",
            "-----epoch no. 1------\n",
            "\n",
            "Loss in training: 0.001506596920080483\n",
            "\n",
            "Loss in validation 0.0028743117582052946\n",
            "\n",
            "-----epoch no. 2------\n",
            "\n",
            "Loss in training: 0.002604615641757846\n",
            "\n",
            "Loss in validation 0.0008452209294773638\n",
            "\n",
            "-----epoch no. 3------\n",
            "\n",
            "Loss in training: 0.014897137880325317\n",
            "\n",
            "Loss in validation 0.008887250907719135\n",
            "\n",
            "-----epoch no. 4------\n",
            "\n",
            "Loss in training: 0.05338047444820404\n",
            "\n",
            "Loss in validation 0.018679993227124214\n",
            "\n",
            "-----epoch no. 5------\n",
            "\n",
            "Loss in training: 0.0041554695926606655\n",
            "\n",
            "Loss in validation 0.4050763249397278\n",
            "\n",
            "-----epoch no. 6------\n",
            "\n",
            "Loss in training: 0.013633177615702152\n",
            "\n",
            "Loss in validation 0.0014523797435685992\n",
            "\n",
            "-----epoch no. 7------\n",
            "\n",
            "Loss in training: 0.005856088828295469\n",
            "\n",
            "Loss in validation 0.08587893098592758\n",
            "\n",
            "-----epoch no. 8------\n",
            "\n",
            "Loss in training: 0.22625507414340973\n",
            "\n",
            "Loss in validation 0.0010190526954829693\n",
            "\n",
            "-----epoch no. 9------\n",
            "\n",
            "Loss in training: 0.10845859348773956\n",
            "\n",
            "Loss in validation 0.030442409217357635\n",
            "\n",
            "-----epoch no. 10------\n",
            "\n",
            "Loss in training: 0.04996441304683685\n",
            "\n",
            "Loss in validation 0.00020152538490947336\n"
          ]
        }
      ],
      "source": [
        "model.train()\n",
        "tloss = []\n",
        "vloss = []\n",
        "k_folds = 5\n",
        "kfold = KFold(n_splits=k_folds, shuffle=True)\n",
        "\n",
        "kf = KFold(n_splits=5, random_state=42, shuffle=True)\n",
        "\n",
        "for fold, (train, val) in enumerate(kfold.split(train_ds)):\n",
        "\n",
        "  print(f'\\nFOLD No. {fold}')\n",
        "  print(\"---------------\\n\\n\")\n",
        "\n",
        "  # Sample elements randomly from a given list of idexes with no replacement.\n",
        "  train_sample = torch.utils.data.SubsetRandomSampler(train)\n",
        "  val_sample = torch.utils.data.SubsetRandomSampler(val)\n",
        "\n",
        "  # data loaders for training and testing\n",
        "  trainloader = torch.utils.data.DataLoader(train_ds, batch_size=bs, sampler=train_sample)\n",
        "  valloader = torch.utils.data.DataLoader(train_ds, batch_size=bs, sampler=val_sample)\n",
        "  for epoch in range(epochs):\n",
        "\n",
        "    print(f'\\n-----epoch no. {epoch+1}------')\n",
        "\n",
        "    for i, dt in enumerate(trainloader, 0):\n",
        "      input, target = dt\n",
        "      t_pred = model(input)\n",
        "      trloss = loss_func(t_pred, target)\n",
        "      optimizer.zero_grad()\n",
        "      trloss.backward()\n",
        "      optimizer.step()\n",
        "    print(\"\\nLoss in training: \"+str(trloss.item()))\n",
        "    tloss.append(trloss.item())\n",
        "\n",
        "    for i, dt in enumerate(valloader, 0):\n",
        "      input, target = dt\n",
        "      v_pred = model(input)\n",
        "      val_loss = loss_func(v_pred, target)\n",
        "    print(\"\\nLoss in validation \"+str(val_loss.item()))\n",
        "    vloss.append(val_loss.item())"
      ]
    },
    {
      "cell_type": "code",
      "execution_count": null,
      "metadata": {
        "colab": {
          "base_uri": "https://localhost:8080/",
          "height": 444
        },
        "id": "eoLnfLJnsIjK",
        "outputId": "8377dd2c-569b-4e3b-9949-d258cb3eede6"
      },
      "outputs": [
        {
          "data": {
            "image/png": "[encoded data removed]",
            "text/plain": [
              "<Figure size 640x480 with 1 Axes>"
            ]
          },
          "metadata": {},
          "output_type": "display_data"
        }
      ],
      "source": [
        "from matplotlib.pyplot import figure\n",
        "epochs = range(1, 51)\n",
        "figure(figsize=(8, 6), dpi=80)\n",
        "plt.plot(epochs, tloss, 'g', label='Training loss')\n",
        "plt.plot(epochs, vloss, 'y', label='validation loss')\n",
        "plt.title('Training & Validation loss')\n",
        "plt.xlabel('Epoch')\n",
        "plt.ylabel('Loss')\n",
        "plt.legend()\n",
        "plt.show()"
      ]
    },
    {
      "cell_type": "code",
      "execution_count": null,
      "metadata": {
        "id": "q9LcpVbpu9_f"
      },
      "outputs": [],
      "source": [
        "torch.save(model, 'ANN10.pth')"
      ]
    },
    {
      "cell_type": "code",
      "execution_count": null,
      "metadata": {
        "id": "oDWCliw7sIf4"
      },
      "outputs": [],
      "source": [
        "import itertools\n",
        "\n",
        "y_pred_list = []\n",
        "\n",
        "saved_model = torch.load('ANN10.pth')\n",
        "saved_model.eval()\n",
        "\n",
        "with torch.no_grad():\n",
        "    for xb_test,yb_test  in test_loader:\n",
        "        y_test_pred = saved_model(xb_test)\n",
        "        y_pred_tag = torch.round(y_test_pred)\n",
        "        y_pred_list.append(y_pred_tag.detach().numpy())\n",
        "\n",
        "# takes arrays and makes them list of list for each batch\n",
        "y_pred_list = [a.squeeze().tolist() for a in y_pred_list]\n",
        "# flattens the lists in sequence\n",
        "ytest_pred = list(itertools.chain.from_iterable(y_pred_list))\n",
        "y_true_test = test_y.values.ravel()"
      ]
    },
    {
      "cell_type": "code",
      "execution_count": null,
      "metadata": {
        "id": "q-IDHl6ksIbp"
      },
      "outputs": [],
      "source": [
        "def matrix(actual,predictions):\n",
        "    accuracy = accuracy_score(actual,predictions)\n",
        "    print('Accuracy: %f' % accuracy)\n",
        "    # f1: 2 tp / (2 tp + fp + fn)\n",
        "    f1 = f1_score(actual,predictions)\n",
        "    print('F1 score: %f' % f1)\n",
        "    # precision tp / (tp + fp)\n",
        "    precision = precision_score(actual,predictions)\n",
        "    print('Precision: %f' % precision)\n",
        "    # recall: tp / (tp + fn)\n",
        "    recall = recall_score(actual,predictions)\n",
        "    print('Recall: %f' % recall)\n",
        "    print('-------------------------')\n",
        "    print (\"Accuracy : \" , accuracy_score(actual,predictions)*100)\n",
        "    print(\"F1 Score : \",f1_score(actual, predictions, average='macro'))\n",
        "    print(\"Report : \\n\", classification_report(actual, predictions))\n",
        "    conf_mat = confusion_matrix(actual, predictions)\n",
        "    print(\"\\n\\nConfusion matrix : \\n\", conf_mat)\n",
        "    labels = ['Class 0', 'Class 1']\n",
        "    fig = plt.figure()\n",
        "    ax = fig.add_subplot(111)\n",
        "    cax = ax.matshow(conf_mat, cmap=plt.cm.Blues)\n",
        "    fig.colorbar(cax)\n",
        "    ax.set_xticklabels([''] + labels)\n",
        "    ax.set_yticklabels([''] + labels)\n",
        "    plt.xlabel('Predicted')\n",
        "    plt.ylabel('Expected')\n",
        "    plt.show()"
      ]
    },
    {
      "cell_type": "code",
      "execution_count": null,
      "metadata": {
        "colab": {
          "base_uri": "https://localhost:8080/",
          "height": 661
        },
        "id": "CEnQNBFksIYK",
        "outputId": "9a9322ce-7f26-439b-d5a5-4aa4f9382811"
      },
      "outputs": [
        {
          "name": "stdout",
          "output_type": "stream",
          "text": [
            "Accuracy: 0.984344\n",
            "F1 score: 0.917241\n",
            "Precision: 0.917241\n",
            "Recall: 0.917241\n",
            "-------------------------\n",
            "Accuracy :  98.43444227005871\n",
            "F1 Score :  0.9542979230845672\n",
            "Report : \n",
            "               precision    recall  f1-score   support\n",
            "\n",
            "           0       0.99      0.99      0.99      1388\n",
            "           1       0.92      0.92      0.92       145\n",
            "\n",
            "    accuracy                           0.98      1533\n",
            "   macro avg       0.95      0.95      0.95      1533\n",
            "weighted avg       0.98      0.98      0.98      1533\n",
            "\n",
            "\n",
            "\n",
            "Confusion matrix : \n",
            " [[1376   12]\n",
            " [  12  133]]\n"
          ]
        },
        {
          "data": {
            "image/png": "[encoded data removed]",
            "text/plain": [
              "<Figure size 432x288 with 2 Axes>"
            ]
          },
          "metadata": {},
          "output_type": "display_data"
        }
      ],
      "source": [
        "matrix(y_true_test ,ytest_pred)"
      ]
    },
    {
      "cell_type": "code",
      "execution_count": null,
      "metadata": {
        "colab": {
          "base_uri": "https://localhost:8080/",
          "height": 206
        },
        "id": "-aCwhLWlDoc_",
        "outputId": "1db59d37-30c9-44a8-ec33-4cf8446f6af7"
      },
      "outputs": [
        {
          "data": {
            "text/html": [
              "\n",
              "  <div id=\"df-f0491853-0a08-4195-9f4b-785c2e140470\">\n",
              "    <div class=\"colab-df-container\">\n",
              "      <div>\n",
              "<style scoped>\n",
              "    .dataframe tbody tr th:only-of-type {\n",
              "        vertical-align: middle;\n",
              "    }\n",
              "\n",
              "    .dataframe tbody tr th {\n",
              "        vertical-align: top;\n",
              "    }\n",
              "\n",
              "    .dataframe thead th {\n",
              "        text-align: right;\n",
              "    }\n",
              "</style>\n",
              "<table border=\"1\" class=\"dataframe\">\n",
              "  <thead>\n",
              "    <tr style=\"text-align: right;\">\n",
              "      <th></th>\n",
              "      <th>Actual_Val</th>\n",
              "      <th>Predicted_val</th>\n",
              "    </tr>\n",
              "  </thead>\n",
              "  <tbody>\n",
              "    <tr>\n",
              "      <th>0</th>\n",
              "      <td>0</td>\n",
              "      <td>0.0</td>\n",
              "    </tr>\n",
              "    <tr>\n",
              "      <th>1</th>\n",
              "      <td>0</td>\n",
              "      <td>0.0</td>\n",
              "    </tr>\n",
              "    <tr>\n",
              "      <th>2</th>\n",
              "      <td>0</td>\n",
              "      <td>0.0</td>\n",
              "    </tr>\n",
              "    <tr>\n",
              "      <th>3</th>\n",
              "      <td>0</td>\n",
              "      <td>0.0</td>\n",
              "    </tr>\n",
              "    <tr>\n",
              "      <th>4</th>\n",
              "      <td>0</td>\n",
              "      <td>0.0</td>\n",
              "    </tr>\n",
              "  </tbody>\n",
              "</table>\n",
              "</div>\n",
              "      <button class=\"colab-df-convert\" onclick=\"convertToInteractive('df-f0491853-0a08-4195-9f4b-785c2e140470')\"\n",
              "              title=\"Convert this dataframe to an interactive table.\"\n",
              "              style=\"display:none;\">\n",
              "        \n",
              "  <svg xmlns=\"http://www.w3.org/2000/svg\" height=\"24px\"viewBox=\"0 0 24 24\"\n",
              "       width=\"24px\">\n",
              "    <path d=\"M0 0h24v24H0V0z\" fill=\"none\"/>\n",
              "    <path d=\"M18.56 5.44l.94 2.06.94-2.06 2.06-.94-2.06-.94-.94-2.06-.94 2.06-2.06.94zm-11 1L8.5 8.5l.94-2.06 2.06-.94-2.06-.94L8.5 2.5l-.94 2.06-2.06.94zm10 10l.94 2.06.94-2.06 2.06-.94-2.06-.94-.94-2.06-.94 2.06-2.06.94z\"/><path d=\"M17.41 7.96l-1.37-1.37c-.4-.4-.92-.59-1.43-.59-.52 0-1.04.2-1.43.59L10.3 9.45l-7.72 7.72c-.78.78-.78 2.05 0 2.83L4 21.41c.39.39.9.59 1.41.59.51 0 1.02-.2 1.41-.59l7.78-7.78 2.81-2.81c.8-.78.8-2.07 0-2.86zM5.41 20L4 18.59l7.72-7.72 1.47 1.35L5.41 20z\"/>\n",
              "  </svg>\n",
              "      </button>\n",
              "      \n",
              "  <style>\n",
              "    .colab-df-container {\n",
              "      display:flex;\n",
              "      flex-wrap:wrap;\n",
              "      gap: 12px;\n",
              "    }\n",
              "\n",
              "    .colab-df-convert {\n",
              "      background-color: #E8F0FE;\n",
              "      border: none;\n",
              "      border-radius: 50%;\n",
              "      cursor: pointer;\n",
              "      display: none;\n",
              "      fill: #1967D2;\n",
              "      height: 32px;\n",
              "      padding: 0 0 0 0;\n",
              "      width: 32px;\n",
              "    }\n",
              "\n",
              "    .colab-df-convert:hover {\n",
              "      background-color: #E2EBFA;\n",
              "      box-shadow: 0px 1px 2px rgba(60, 64, 67, 0.3), 0px 1px 3px 1px rgba(60, 64, 67, 0.15);\n",
              "      fill: #174EA6;\n",
              "    }\n",
              "\n",
              "    [theme=dark] .colab-df-convert {\n",
              "      background-color: #3B4455;\n",
              "      fill: #D2E3FC;\n",
              "    }\n",
              "\n",
              "    [theme=dark] .colab-df-convert:hover {\n",
              "      background-color: #434B5C;\n",
              "      box-shadow: 0px 1px 3px 1px rgba(0, 0, 0, 0.15);\n",
              "      filter: drop-shadow(0px 1px 2px rgba(0, 0, 0, 0.3));\n",
              "      fill: #FFFFFF;\n",
              "    }\n",
              "  </style>\n",
              "\n",
              "      <script>\n",
              "        const buttonEl =\n",
              "          document.querySelector('#df-f0491853-0a08-4195-9f4b-785c2e140470 button.colab-df-convert');\n",
              "        buttonEl.style.display =\n",
              "          google.colab.kernel.accessAllowed ? 'block' : 'none';\n",
              "\n",
              "        async function convertToInteractive(key) {\n",
              "          const element = document.querySelector('#df-f0491853-0a08-4195-9f4b-785c2e140470');\n",
              "          const dataTable =\n",
              "            await google.colab.kernel.invokeFunction('convertToInteractive',\n",
              "                                                     [key], {});\n",
              "          if (!dataTable) return;\n",
              "\n",
              "          const docLinkHtml = 'Like what you see? Visit the ' +\n",
              "            '<a target=\"_blank\" href=https://colab.research.google.com/notebooks/data_table.ipynb>data table notebook</a>'\n",
              "            + ' to learn more about interactive tables.';\n",
              "          element.innerHTML = '';\n",
              "          dataTable['output_type'] = 'display_data';\n",
              "          await google.colab.output.renderOutput(dataTable, element);\n",
              "          const docLink = document.createElement('div');\n",
              "          docLink.innerHTML = docLinkHtml;\n",
              "          element.appendChild(docLink);\n",
              "        }\n",
              "      </script>\n",
              "    </div>\n",
              "  </div>\n",
              "  "
            ],
            "text/plain": [
              "   Actual_Val  Predicted_val\n",
              "0           0            0.0\n",
              "1           0            0.0\n",
              "2           0            0.0\n",
              "3           0            0.0\n",
              "4           0            0.0"
            ]
          },
          "execution_count": 61,
          "metadata": {},
          "output_type": "execute_result"
        }
      ],
      "source": [
        "df = pd.DataFrame(list(zip(y_true_test, ytest_pred)),\n",
        "               columns =['Actual_Val', 'Predicted_val'])\n",
        "\n",
        "df.head()"
      ]
    },
    {
      "cell_type": "code",
      "execution_count": null,
      "metadata": {
        "colab": {
          "base_uri": "https://localhost:8080/",
          "height": 206
        },
        "id": "sNwjb_LBFYqI",
        "outputId": "c4ab63ba-837c-433d-b890-c8b7112146ba"
      },
      "outputs": [
        {
          "data": {
            "text/html": [
              "\n",
              "  <div id=\"df-f963dca4-2cde-4756-ae5a-ff19cde7507b\">\n",
              "    <div class=\"colab-df-container\">\n",
              "      <div>\n",
              "<style scoped>\n",
              "    .dataframe tbody tr th:only-of-type {\n",
              "        vertical-align: middle;\n",
              "    }\n",
              "\n",
              "    .dataframe tbody tr th {\n",
              "        vertical-align: top;\n",
              "    }\n",
              "\n",
              "    .dataframe thead th {\n",
              "        text-align: right;\n",
              "    }\n",
              "</style>\n",
              "<table border=\"1\" class=\"dataframe\">\n",
              "  <thead>\n",
              "    <tr style=\"text-align: right;\">\n",
              "      <th></th>\n",
              "      <th>Actual_Val</th>\n",
              "      <th>Predicted_val</th>\n",
              "    </tr>\n",
              "  </thead>\n",
              "  <tbody>\n",
              "    <tr>\n",
              "      <th>35</th>\n",
              "      <td>0</td>\n",
              "      <td>0.0</td>\n",
              "    </tr>\n",
              "    <tr>\n",
              "      <th>36</th>\n",
              "      <td>1</td>\n",
              "      <td>1.0</td>\n",
              "    </tr>\n",
              "    <tr>\n",
              "      <th>37</th>\n",
              "      <td>0</td>\n",
              "      <td>0.0</td>\n",
              "    </tr>\n",
              "    <tr>\n",
              "      <th>38</th>\n",
              "      <td>0</td>\n",
              "      <td>0.0</td>\n",
              "    </tr>\n",
              "    <tr>\n",
              "      <th>39</th>\n",
              "      <td>0</td>\n",
              "      <td>0.0</td>\n",
              "    </tr>\n",
              "  </tbody>\n",
              "</table>\n",
              "</div>\n",
              "      <button class=\"colab-df-convert\" onclick=\"convertToInteractive('df-f963dca4-2cde-4756-ae5a-ff19cde7507b')\"\n",
              "              title=\"Convert this dataframe to an interactive table.\"\n",
              "              style=\"display:none;\">\n",
              "        \n",
              "  <svg xmlns=\"http://www.w3.org/2000/svg\" height=\"24px\"viewBox=\"0 0 24 24\"\n",
              "       width=\"24px\">\n",
              "    <path d=\"M0 0h24v24H0V0z\" fill=\"none\"/>\n",
              "    <path d=\"M18.56 5.44l.94 2.06.94-2.06 2.06-.94-2.06-.94-.94-2.06-.94 2.06-2.06.94zm-11 1L8.5 8.5l.94-2.06 2.06-.94-2.06-.94L8.5 2.5l-.94 2.06-2.06.94zm10 10l.94 2.06.94-2.06 2.06-.94-2.06-.94-.94-2.06-.94 2.06-2.06.94z\"/><path d=\"M17.41 7.96l-1.37-1.37c-.4-.4-.92-.59-1.43-.59-.52 0-1.04.2-1.43.59L10.3 9.45l-7.72 7.72c-.78.78-.78 2.05 0 2.83L4 21.41c.39.39.9.59 1.41.59.51 0 1.02-.2 1.41-.59l7.78-7.78 2.81-2.81c.8-.78.8-2.07 0-2.86zM5.41 20L4 18.59l7.72-7.72 1.47 1.35L5.41 20z\"/>\n",
              "  </svg>\n",
              "      </button>\n",
              "      \n",
              "  <style>\n",
              "    .colab-df-container {\n",
              "      display:flex;\n",
              "      flex-wrap:wrap;\n",
              "      gap: 12px;\n",
              "    }\n",
              "\n",
              "    .colab-df-convert {\n",
              "      background-color: #E8F0FE;\n",
              "      border: none;\n",
              "      border-radius: 50%;\n",
              "      cursor: pointer;\n",
              "      display: none;\n",
              "      fill: #1967D2;\n",
              "      height: 32px;\n",
              "      padding: 0 0 0 0;\n",
              "      width: 32px;\n",
              "    }\n",
              "\n",
              "    .colab-df-convert:hover {\n",
              "      background-color: #E2EBFA;\n",
              "      box-shadow: 0px 1px 2px rgba(60, 64, 67, 0.3), 0px 1px 3px 1px rgba(60, 64, 67, 0.15);\n",
              "      fill: #174EA6;\n",
              "    }\n",
              "\n",
              "    [theme=dark] .colab-df-convert {\n",
              "      background-color: #3B4455;\n",
              "      fill: #D2E3FC;\n",
              "    }\n",
              "\n",
              "    [theme=dark] .colab-df-convert:hover {\n",
              "      background-color: #434B5C;\n",
              "      box-shadow: 0px 1px 3px 1px rgba(0, 0, 0, 0.15);\n",
              "      filter: drop-shadow(0px 1px 2px rgba(0, 0, 0, 0.3));\n",
              "      fill: #FFFFFF;\n",
              "    }\n",
              "  </style>\n",
              "\n",
              "      <script>\n",
              "        const buttonEl =\n",
              "          document.querySelector('#df-f963dca4-2cde-4756-ae5a-ff19cde7507b button.colab-df-convert');\n",
              "        buttonEl.style.display =\n",
              "          google.colab.kernel.accessAllowed ? 'block' : 'none';\n",
              "\n",
              "        async function convertToInteractive(key) {\n",
              "          const element = document.querySelector('#df-f963dca4-2cde-4756-ae5a-ff19cde7507b');\n",
              "          const dataTable =\n",
              "            await google.colab.kernel.invokeFunction('convertToInteractive',\n",
              "                                                     [key], {});\n",
              "          if (!dataTable) return;\n",
              "\n",
              "          const docLinkHtml = 'Like what you see? Visit the ' +\n",
              "            '<a target=\"_blank\" href=https://colab.research.google.com/notebooks/data_table.ipynb>data table notebook</a>'\n",
              "            + ' to learn more about interactive tables.';\n",
              "          element.innerHTML = '';\n",
              "          dataTable['output_type'] = 'display_data';\n",
              "          await google.colab.output.renderOutput(dataTable, element);\n",
              "          const docLink = document.createElement('div');\n",
              "          docLink.innerHTML = docLinkHtml;\n",
              "          element.appendChild(docLink);\n",
              "        }\n",
              "      </script>\n",
              "    </div>\n",
              "  </div>\n",
              "  "
            ],
            "text/plain": [
              "    Actual_Val  Predicted_val\n",
              "35           0            0.0\n",
              "36           1            1.0\n",
              "37           0            0.0\n",
              "38           0            0.0\n",
              "39           0            0.0"
            ]
          },
          "execution_count": 71,
          "metadata": {},
          "output_type": "execute_result"
        }
      ],
      "source": [
        "df.iloc[35:40]"
      ]
    },
    {
      "cell_type": "code",
      "execution_count": null,
      "metadata": {
        "colab": {
          "base_uri": "https://localhost:8080/"
        },
        "id": "eIDslyLMsISr",
        "outputId": "3c05ce78-fceb-4892-a5c9-70281ad8bac2"
      },
      "outputs": [
        {
          "name": "stdout",
          "output_type": "stream",
          "text": [
            "Looking in indexes: https://pypi.org/simple, https://us-python.pkg.dev/colab-wheels/public/simple/\n",
            "Collecting shap\n",
            "  Downloading shap-0.40.0-cp37-cp37m-manylinux2010_x86_64.whl (564 kB)\n",
            "\u001b[K     |████████████████████████████████| 564 kB 4.7 MB/s \n",
            "\u001b[?25hRequirement already satisfied: pandas in /usr/local/lib/python3.7/dist-packages (from shap) (1.3.5)\n",
            "Requirement already satisfied: scikit-learn in /usr/local/lib/python3.7/dist-packages (from shap) (1.0.2)\n",
            "Requirement already satisfied: packaging>20.9 in /usr/local/lib/python3.7/dist-packages (from shap) (21.3)\n",
            "Collecting slicer==0.0.7\n",
            "  Downloading slicer-0.0.7-py3-none-any.whl (14 kB)\n",
            "Requirement already satisfied: scipy in /usr/local/lib/python3.7/dist-packages (from shap) (1.4.1)\n",
            "Requirement already satisfied: numpy in /usr/local/lib/python3.7/dist-packages (from shap) (1.21.6)\n",
            "Requirement already satisfied: numba in /usr/local/lib/python3.7/dist-packages (from shap) (0.51.2)\n",
            "Requirement already satisfied: cloudpickle in /usr/local/lib/python3.7/dist-packages (from shap) (1.3.0)\n",
            "Requirement already satisfied: tqdm>4.25.0 in /usr/local/lib/python3.7/dist-packages (from shap) (4.64.0)\n",
            "Requirement already satisfied: pyparsing!=3.0.5,>=2.0.2 in /usr/local/lib/python3.7/dist-packages (from packaging>20.9->shap) (3.0.9)\n",
            "Requirement already satisfied: setuptools in /usr/local/lib/python3.7/dist-packages (from numba->shap) (57.4.0)\n",
            "Requirement already satisfied: llvmlite<0.35,>=0.34.0.dev0 in /usr/local/lib/python3.7/dist-packages (from numba->shap) (0.34.0)\n",
            "Requirement already satisfied: python-dateutil>=2.7.3 in /usr/local/lib/python3.7/dist-packages (from pandas->shap) (2.8.2)\n",
            "Requirement already satisfied: pytz>=2017.3 in /usr/local/lib/python3.7/dist-packages (from pandas->shap) (2022.1)\n",
            "Requirement already satisfied: six>=1.5 in /usr/local/lib/python3.7/dist-packages (from python-dateutil>=2.7.3->pandas->shap) (1.15.0)\n",
            "Requirement already satisfied: joblib>=0.11 in /usr/local/lib/python3.7/dist-packages (from scikit-learn->shap) (1.1.0)\n",
            "Requirement already satisfied: threadpoolctl>=2.0.0 in /usr/local/lib/python3.7/dist-packages (from scikit-learn->shap) (3.1.0)\n",
            "Installing collected packages: slicer, shap\n",
            "Successfully installed shap-0.40.0 slicer-0.0.7\n"
          ]
        }
      ],
      "source": [
        "!pip install shap"
      ]
    },
    {
      "cell_type": "code",
      "execution_count": null,
      "metadata": {
        "id": "N9krNvrwsINA"
      },
      "outputs": [],
      "source": [
        "import shap"
      ]
    },
    {
      "cell_type": "code",
      "execution_count": null,
      "metadata": {
        "id": "_fDOIsr5sIIu"
      },
      "outputs": [],
      "source": [
        "features_name_list = data.columns.drop(\"SCL_Label\")"
      ]
    },
    {
      "cell_type": "code",
      "execution_count": null,
      "metadata": {
        "id": "O8FCARpasIFv"
      },
      "outputs": [],
      "source": [
        "e = shap.GradientExplainer(saved_model, x_tensor)\n",
        "shap_values = pd.DataFrame(e.shap_values(xtest_tensor), columns=features_name_list)"
      ]
    },
    {
      "cell_type": "code",
      "execution_count": null,
      "metadata": {
        "colab": {
          "base_uri": "https://localhost:8080/",
          "height": 54
        },
        "id": "mo3voNcNsIA6",
        "outputId": "6c3ade70-23ef-4b8d-b366-996c05f1c473"
      },
      "outputs": [
        {
          "data": {
            "image/png": "[encoded data removed]",
            "text/plain": [
              "<Figure size 576x396 with 1 Axes>"
            ]
          },
          "metadata": {},
          "output_type": "display_data"
        }
      ],
      "source": [
        "shap.bar_plot(e.shap_values(xtest_tensor)[36], feature_names=features_name_list)\n",
        "              # for sample record no.6 features Occupation & Town Country are positively effecting the output where as SCL_35, Title, SCL_90, SCL_84, SCL_63 are negatively effecting"
      ]
    },
    {
      "cell_type": "code",
      "execution_count": null,
      "metadata": {
        "colab": {
          "base_uri": "https://localhost:8080/",
          "height": 54
        },
        "id": "XBGP0hqIsH9B",
        "outputId": "f1355c58-d389-4f3e-a1a4-67142aeb3de5"
      },
      "outputs": [
        {
          "data": {
            "image/png": "[encoded data removed]",
            "text/plain": [
              "<Figure size 576x684 with 2 Axes>"
            ]
          },
          "metadata": {},
          "output_type": "display_data"
        }
      ],
      "source": [
        "shap.summary_plot(e.shap_values(xtest_tensor), feature_names=features_name_list, features = xtest_tensor)"
      ]
    },
    {
      "cell_type": "code",
      "execution_count": null,
      "metadata": {
        "id": "-lQbLJMcsG1B"
      },
      "outputs": [],
      "source": []
    }
  ],
  "metadata": {
    "colab": {
      "provenance": []
    },
    "kernelspec": {
      "display_name": "Python 3",
      "name": "python3"
    },
    "language_info": {
      "name": "python"
    }
  },
  "nbformat": 4,
  "nbformat_minor": 0
}